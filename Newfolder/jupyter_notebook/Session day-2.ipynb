{
 "cells": [
  {
   "cell_type": "markdown",
   "id": "0700e426",
   "metadata": {},
   "source": [
    "**Body Mass Index (BMI)**\n",
    "\n",
    "**input weight**\n",
    "\n",
    "**Hight**\n",
    "\n",
    "**Weight**\n"
   ]
  },
  {
   "cell_type": "markdown",
   "id": "c46efe66",
   "metadata": {},
   "source": [
    "BMI=Weight in kg/hight in metersandits**2"
   ]
  },
  {
   "cell_type": "code",
   "execution_count": 1,
   "id": "b1ae0c62",
   "metadata": {},
   "outputs": [
    {
     "name": "stdout",
     "output_type": "stream",
     "text": [
      "What is your hight? 1.76\n"
     ]
    }
   ],
   "source": [
    "hight = input(\"What is your hight? \")"
   ]
  },
  {
   "cell_type": "code",
   "execution_count": 2,
   "id": "859d72ab",
   "metadata": {},
   "outputs": [],
   "source": [
    "hight=float(hight)"
   ]
  },
  {
   "cell_type": "code",
   "execution_count": 3,
   "id": "cded799f",
   "metadata": {
    "scrolled": true
   },
   "outputs": [
    {
     "name": "stdout",
     "output_type": "stream",
     "text": [
      "What is your weight? 77\n"
     ]
    }
   ],
   "source": [
    "weight = input(\"What is your weight? \")"
   ]
  },
  {
   "cell_type": "code",
   "execution_count": 4,
   "id": "4fee2e3a",
   "metadata": {},
   "outputs": [],
   "source": [
    "weight=int(weight)"
   ]
  },
  {
   "cell_type": "code",
   "execution_count": 5,
   "id": "ccfaa212",
   "metadata": {
    "scrolled": false
   },
   "outputs": [
    {
     "name": "stdout",
     "output_type": "stream",
     "text": [
      "What is your name? wisal\n"
     ]
    }
   ],
   "source": [
    "name = input(\"What is your name? \")"
   ]
  },
  {
   "cell_type": "code",
   "execution_count": 6,
   "id": "8fb83bb9",
   "metadata": {},
   "outputs": [],
   "source": [
    "name=str(name)"
   ]
  },
  {
   "cell_type": "code",
   "execution_count": 7,
   "id": "bb11eade",
   "metadata": {},
   "outputs": [
    {
     "data": {
      "text/plain": [
       "24.857954545454547"
      ]
     },
     "execution_count": 7,
     "metadata": {},
     "output_type": "execute_result"
    }
   ],
   "source": [
    "BMI = weight/hight**2\n",
    "BMI"
   ]
  },
  {
   "cell_type": "code",
   "execution_count": 8,
   "id": "9f0e9c92",
   "metadata": {},
   "outputs": [
    {
     "name": "stdout",
     "output_type": "stream",
     "text": [
      "My name is wisal and my BMI is 24.857954545454547\n"
     ]
    }
   ],
   "source": [
    "print(\"My name is\", name ,\"and my BMI is\", BMI)"
   ]
  },
  {
   "cell_type": "code",
   "execution_count": null,
   "id": "50c5cdea",
   "metadata": {},
   "outputs": [],
   "source": []
  },
  {
   "cell_type": "code",
   "execution_count": null,
   "id": "d7b4d73f",
   "metadata": {},
   "outputs": [],
   "source": []
  }
 ],
 "metadata": {
  "kernelspec": {
   "display_name": "Python 3 (ipykernel)",
   "language": "python",
   "name": "python3"
  },
  "language_info": {
   "codemirror_mode": {
    "name": "ipython",
    "version": 3
   },
   "file_extension": ".py",
   "mimetype": "text/x-python",
   "name": "python",
   "nbconvert_exporter": "python",
   "pygments_lexer": "ipython3",
   "version": "3.9.7"
  }
 },
 "nbformat": 4,
 "nbformat_minor": 5
}
