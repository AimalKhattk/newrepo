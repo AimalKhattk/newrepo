{
 "cells": [
  {
   "cell_type": "markdown",
   "id": "48b0a333",
   "metadata": {},
   "source": [
    "# _Indexing"
   ]
  },
  {
   "cell_type": "markdown",
   "id": "98997f49",
   "metadata": {},
   "source": [
    "**make a string**"
   ]
  },
  {
   "cell_type": "code",
   "execution_count": 1,
   "id": "e5654fd8",
   "metadata": {},
   "outputs": [
    {
     "data": {
      "text/plain": [
       "'Samosa Pakora'"
      ]
     },
     "execution_count": 1,
     "metadata": {},
     "output_type": "execute_result"
    }
   ],
   "source": [
    "a=\"Samosa Pakora\"\n",
    "a"
   ]
  },
  {
   "cell_type": "code",
   "execution_count": 2,
   "id": "47e4d2fe",
   "metadata": {},
   "outputs": [
    {
     "data": {
      "text/plain": [
       "'Samosa Pakora'"
      ]
     },
     "execution_count": 2,
     "metadata": {},
     "output_type": "execute_result"
    }
   ],
   "source": [
    "a"
   ]
  },
  {
   "cell_type": "code",
   "execution_count": 3,
   "id": "a7769de1",
   "metadata": {},
   "outputs": [
    {
     "data": {
      "text/plain": [
       "'S'"
      ]
     },
     "execution_count": 3,
     "metadata": {},
     "output_type": "execute_result"
    }
   ],
   "source": [
    "a[0]"
   ]
  },
  {
   "cell_type": "code",
   "execution_count": 4,
   "id": "08762d29",
   "metadata": {},
   "outputs": [
    {
     "data": {
      "text/plain": [
       "'a'"
      ]
     },
     "execution_count": 4,
     "metadata": {},
     "output_type": "execute_result"
    }
   ],
   "source": [
    "a[1]"
   ]
  },
  {
   "cell_type": "code",
   "execution_count": 5,
   "id": "f9be5cc5",
   "metadata": {},
   "outputs": [
    {
     "data": {
      "text/plain": [
       "'m'"
      ]
     },
     "execution_count": 5,
     "metadata": {},
     "output_type": "execute_result"
    }
   ],
   "source": [
    "a[2]"
   ]
  },
  {
   "cell_type": "code",
   "execution_count": 6,
   "id": "515945a1",
   "metadata": {},
   "outputs": [
    {
     "data": {
      "text/plain": [
       "'o'"
      ]
     },
     "execution_count": 6,
     "metadata": {},
     "output_type": "execute_result"
    }
   ],
   "source": [
    "a[3]"
   ]
  },
  {
   "cell_type": "code",
   "execution_count": 7,
   "id": "f0997253",
   "metadata": {},
   "outputs": [
    {
     "data": {
      "text/plain": [
       "'s'"
      ]
     },
     "execution_count": 7,
     "metadata": {},
     "output_type": "execute_result"
    }
   ],
   "source": [
    "a[4]\n"
   ]
  },
  {
   "cell_type": "code",
   "execution_count": 8,
   "id": "90fe3922",
   "metadata": {},
   "outputs": [
    {
     "data": {
      "text/plain": [
       "'a'"
      ]
     },
     "execution_count": 8,
     "metadata": {},
     "output_type": "execute_result"
    }
   ],
   "source": [
    "a[5]"
   ]
  },
  {
   "cell_type": "markdown",
   "id": "d842d8df",
   "metadata": {},
   "source": [
    "**Length of indeces**"
   ]
  },
  {
   "cell_type": "code",
   "execution_count": 9,
   "id": "3c86b48b",
   "metadata": {},
   "outputs": [
    {
     "data": {
      "text/plain": [
       "13"
      ]
     },
     "execution_count": 9,
     "metadata": {},
     "output_type": "execute_result"
    }
   ],
   "source": [
    "len(a)"
   ]
  },
  {
   "cell_type": "code",
   "execution_count": 10,
   "id": "ee490efd",
   "metadata": {},
   "outputs": [
    {
     "data": {
      "text/plain": [
       "'Samosa Pakora'"
      ]
     },
     "execution_count": 10,
     "metadata": {},
     "output_type": "execute_result"
    }
   ],
   "source": [
    "a[0:13]"
   ]
  },
  {
   "cell_type": "code",
   "execution_count": 11,
   "id": "3f0bd667",
   "metadata": {},
   "outputs": [
    {
     "data": {
      "text/plain": [
       "'Samos'"
      ]
     },
     "execution_count": 11,
     "metadata": {},
     "output_type": "execute_result"
    }
   ],
   "source": [
    "a[0:5]"
   ]
  },
  {
   "cell_type": "markdown",
   "id": "9a651703",
   "metadata": {},
   "source": [
    "**Last Index is Exclusive**"
   ]
  },
  {
   "cell_type": "code",
   "execution_count": 12,
   "id": "9a63f248",
   "metadata": {},
   "outputs": [
    {
     "data": {
      "text/plain": [
       "'Samosa'"
      ]
     },
     "execution_count": 12,
     "metadata": {},
     "output_type": "execute_result"
    }
   ],
   "source": [
    "a[0:6]"
   ]
  },
  {
   "cell_type": "code",
   "execution_count": 13,
   "id": "1350be3c",
   "metadata": {},
   "outputs": [
    {
     "data": {
      "text/plain": [
       "'a'"
      ]
     },
     "execution_count": 13,
     "metadata": {},
     "output_type": "execute_result"
    }
   ],
   "source": [
    "a[-1]"
   ]
  },
  {
   "cell_type": "code",
   "execution_count": 14,
   "id": "70b7c63e",
   "metadata": {},
   "outputs": [
    {
     "data": {
      "text/plain": [
       "'Pakor'"
      ]
     },
     "execution_count": 14,
     "metadata": {},
     "output_type": "execute_result"
    }
   ],
   "source": [
    "a[-6:-1]"
   ]
  },
  {
   "cell_type": "code",
   "execution_count": 15,
   "id": "2e5c5a88",
   "metadata": {},
   "outputs": [
    {
     "data": {
      "text/plain": [
       "'Pakora'"
      ]
     },
     "execution_count": 15,
     "metadata": {},
     "output_type": "execute_result"
    }
   ],
   "source": [
    "a[-6:13]"
   ]
  },
  {
   "cell_type": "code",
   "execution_count": 16,
   "id": "1cf315b1",
   "metadata": {},
   "outputs": [
    {
     "data": {
      "text/plain": [
       "'biryani'"
      ]
     },
     "execution_count": 16,
     "metadata": {},
     "output_type": "execute_result"
    }
   ],
   "source": [
    "food=\"biryani\"\n",
    "food"
   ]
  },
  {
   "cell_type": "markdown",
   "id": "90f20d9f",
   "metadata": {},
   "source": [
    "## String  methods"
   ]
  },
  {
   "cell_type": "code",
   "execution_count": 17,
   "id": "c286bf0e",
   "metadata": {},
   "outputs": [
    {
     "data": {
      "text/plain": [
       "'biryani'"
      ]
     },
     "execution_count": 17,
     "metadata": {},
     "output_type": "execute_result"
    }
   ],
   "source": [
    "food"
   ]
  },
  {
   "cell_type": "code",
   "execution_count": 18,
   "id": "32c6df01",
   "metadata": {},
   "outputs": [
    {
     "data": {
      "text/plain": [
       "7"
      ]
     },
     "execution_count": 18,
     "metadata": {},
     "output_type": "execute_result"
    }
   ],
   "source": [
    "len(food)"
   ]
  },
  {
   "cell_type": "markdown",
   "id": "499d69b3",
   "metadata": {},
   "source": [
    "**Capitalize every element**"
   ]
  },
  {
   "cell_type": "code",
   "execution_count": 19,
   "id": "ed900358",
   "metadata": {},
   "outputs": [
    {
     "data": {
      "text/plain": [
       "'Biryani'"
      ]
     },
     "execution_count": 19,
     "metadata": {},
     "output_type": "execute_result"
    }
   ],
   "source": [
    "food.capitalize()"
   ]
  },
  {
   "cell_type": "markdown",
   "id": "55c85736",
   "metadata": {},
   "source": [
    "**Uppercase Letters**"
   ]
  },
  {
   "cell_type": "code",
   "execution_count": 20,
   "id": "20ca462f",
   "metadata": {},
   "outputs": [
    {
     "data": {
      "text/plain": [
       "'BIRYANI'"
      ]
     },
     "execution_count": 20,
     "metadata": {},
     "output_type": "execute_result"
    }
   ],
   "source": [
    "food.upper()"
   ]
  },
  {
   "cell_type": "markdown",
   "id": "6dbeb9d5",
   "metadata": {},
   "source": [
    "**Lowercase Letters**"
   ]
  },
  {
   "cell_type": "code",
   "execution_count": 21,
   "id": "6e11ba40",
   "metadata": {},
   "outputs": [
    {
     "data": {
      "text/plain": [
       "'biryani'"
      ]
     },
     "execution_count": 21,
     "metadata": {},
     "output_type": "execute_result"
    }
   ],
   "source": [
    "food.lower()"
   ]
  },
  {
   "cell_type": "markdown",
   "id": "fbf59bac",
   "metadata": {},
   "source": [
    "**Replace**"
   ]
  },
  {
   "cell_type": "code",
   "execution_count": 22,
   "id": "de30176f",
   "metadata": {},
   "outputs": [
    {
     "data": {
      "text/plain": [
       "'Shiryani'"
      ]
     },
     "execution_count": 22,
     "metadata": {},
     "output_type": "execute_result"
    }
   ],
   "source": [
    "food.replace(\"b\",\"Sh\")"
   ]
  },
  {
   "cell_type": "markdown",
   "id": "d5d398c4",
   "metadata": {},
   "source": [
    "**Counting a specific alphabet in a string**"
   ]
  },
  {
   "cell_type": "code",
   "execution_count": 23,
   "id": "c2b32b22",
   "metadata": {},
   "outputs": [
    {
     "data": {
      "text/plain": [
       "'baba aammar with Dr Aammar Tufail'"
      ]
     },
     "execution_count": 23,
     "metadata": {},
     "output_type": "execute_result"
    }
   ],
   "source": [
    "name=\"baba aammar with Dr Aammar Tufail\"\n",
    "name\n"
   ]
  },
  {
   "cell_type": "code",
   "execution_count": 24,
   "id": "fa25b807",
   "metadata": {},
   "outputs": [
    {
     "data": {
      "text/plain": [
       "8"
      ]
     },
     "execution_count": 24,
     "metadata": {},
     "output_type": "execute_result"
    }
   ],
   "source": [
    "name.count(\"a\")"
   ]
  },
  {
   "cell_type": "markdown",
   "id": "5ed37698",
   "metadata": {},
   "source": [
    "**Finding an index number in string**"
   ]
  },
  {
   "cell_type": "code",
   "execution_count": 25,
   "id": "f550e869",
   "metadata": {},
   "outputs": [
    {
     "data": {
      "text/plain": [
       "'baba aammar with Dr Aammar Tufail'"
      ]
     },
     "execution_count": 25,
     "metadata": {},
     "output_type": "execute_result"
    }
   ],
   "source": [
    "name=\"baba aammar with Dr Aammar Tufail\"\n",
    "name"
   ]
  },
  {
   "cell_type": "code",
   "execution_count": 26,
   "id": "a0246c53",
   "metadata": {},
   "outputs": [
    {
     "data": {
      "text/plain": [
       "17"
      ]
     },
     "execution_count": 26,
     "metadata": {},
     "output_type": "execute_result"
    }
   ],
   "source": [
    "name.find(\"D\")"
   ]
  },
  {
   "cell_type": "code",
   "execution_count": 27,
   "id": "480ec26b",
   "metadata": {},
   "outputs": [
    {
     "data": {
      "text/plain": [
       "20"
      ]
     },
     "execution_count": 27,
     "metadata": {},
     "output_type": "execute_result"
    }
   ],
   "source": [
    "name.find(\"A\")"
   ]
  },
  {
   "cell_type": "code",
   "execution_count": 28,
   "id": "de52d59c",
   "metadata": {},
   "outputs": [
    {
     "data": {
      "text/plain": [
       "27"
      ]
     },
     "execution_count": 28,
     "metadata": {},
     "output_type": "execute_result"
    }
   ],
   "source": [
    "name.find(\"T\")"
   ]
  },
  {
   "cell_type": "markdown",
   "id": "95bfd188",
   "metadata": {},
   "source": [
    "***How to split a string***"
   ]
  },
  {
   "cell_type": "code",
   "execution_count": 29,
   "id": "b2dbb4a3",
   "metadata": {},
   "outputs": [
    {
     "data": {
      "text/plain": [
       "['I love samosa', ' pakora', ' raita', ' biryani and karahi']"
      ]
     },
     "execution_count": 29,
     "metadata": {},
     "output_type": "execute_result"
    }
   ],
   "source": [
    "food=\"I love samosa, pakora, raita, biryani and karahi\"\n",
    "food.split(\",\")"
   ]
  },
  {
   "cell_type": "markdown",
   "id": "886e4203",
   "metadata": {},
   "source": [
    "food.split(\",\")"
   ]
  },
  {
   "cell_type": "markdown",
   "id": "315d1395",
   "metadata": {},
   "source": [
    "# Basic data structure in Python\n",
    "\n",
    "### 1-Tuple\n",
    "\n",
    "### 2-List\n",
    "\n",
    "### 3-Dictionaries\n",
    "\n",
    "### 4-Set\n",
    "\n"
   ]
  },
  {
   "cell_type": "markdown",
   "id": "fea6ce00",
   "metadata": {},
   "source": [
    "----"
   ]
  },
  {
   "cell_type": "markdown",
   "id": "b0281bc1",
   "metadata": {},
   "source": [
    "1-***Tuple***\n",
    "\n",
    "-**ordered collection of elements**\n",
    "\n",
    "-**enclosed in () round braces / paranthesis**\n",
    "\n",
    "-**Different kind of elements can be stored**\n",
    "\n",
    "-**Once elements are stored you can not change them (unmutatable) .It means you can not replace them.** "
   ]
  },
  {
   "cell_type": "markdown",
   "id": "1d8f05fa",
   "metadata": {},
   "source": [
    "-**elements means**\n",
    "\n",
    "*integers*\n",
    "\n",
    "*strings*\n",
    "\n",
    "*float number*\n",
    "\n",
    "*boolean operator (True , False)*"
   ]
  },
  {
   "cell_type": "code",
   "execution_count": 30,
   "id": "e607e702",
   "metadata": {},
   "outputs": [
    {
     "data": {
      "text/plain": [
       "(1, 'python', True, 2.5)"
      ]
     },
     "execution_count": 30,
     "metadata": {},
     "output_type": "execute_result"
    }
   ],
   "source": [
    "tup1 = (1,\"python\",True,2.5)\n",
    "tup1"
   ]
  },
  {
   "cell_type": "markdown",
   "id": "d0d57154",
   "metadata": {},
   "source": [
    "### type of tuple"
   ]
  },
  {
   "cell_type": "code",
   "execution_count": 31,
   "id": "f9471d5f",
   "metadata": {},
   "outputs": [
    {
     "data": {
      "text/plain": [
       "tuple"
      ]
     },
     "execution_count": 31,
     "metadata": {},
     "output_type": "execute_result"
    }
   ],
   "source": [
    "type(tup1)"
   ]
  },
  {
   "cell_type": "markdown",
   "id": "3d5cb361",
   "metadata": {},
   "source": [
    "### Indexing in tuple"
   ]
  },
  {
   "cell_type": "code",
   "execution_count": 32,
   "id": "a27f75b8",
   "metadata": {},
   "outputs": [
    {
     "data": {
      "text/plain": [
       "True"
      ]
     },
     "execution_count": 32,
     "metadata": {},
     "output_type": "execute_result"
    }
   ],
   "source": [
    "tup1[2]\n"
   ]
  },
  {
   "cell_type": "code",
   "execution_count": 33,
   "id": "f41c3ca5",
   "metadata": {},
   "outputs": [
    {
     "data": {
      "text/plain": [
       "'python'"
      ]
     },
     "execution_count": 33,
     "metadata": {},
     "output_type": "execute_result"
    }
   ],
   "source": [
    "tup1[1]"
   ]
  },
  {
   "cell_type": "code",
   "execution_count": 34,
   "id": "4b845961",
   "metadata": {},
   "outputs": [
    {
     "data": {
      "text/plain": [
       "1"
      ]
     },
     "execution_count": 34,
     "metadata": {},
     "output_type": "execute_result"
    }
   ],
   "source": [
    "tup1[0]"
   ]
  },
  {
   "cell_type": "code",
   "execution_count": 35,
   "id": "8a5d1a18",
   "metadata": {},
   "outputs": [
    {
     "data": {
      "text/plain": [
       "2.5"
      ]
     },
     "execution_count": 35,
     "metadata": {},
     "output_type": "execute_result"
    }
   ],
   "source": [
    "tup1[3]\n"
   ]
  },
  {
   "cell_type": "markdown",
   "id": "8dad4f29",
   "metadata": {},
   "source": [
    "*Last element is exclusive*"
   ]
  },
  {
   "cell_type": "code",
   "execution_count": 36,
   "id": "d264d83c",
   "metadata": {},
   "outputs": [
    {
     "data": {
      "text/plain": [
       "(1, 'python', True)"
      ]
     },
     "execution_count": 36,
     "metadata": {},
     "output_type": "execute_result"
    }
   ],
   "source": [
    "tup1[0:3]"
   ]
  },
  {
   "cell_type": "code",
   "execution_count": 37,
   "id": "5954f9f2",
   "metadata": {},
   "outputs": [
    {
     "data": {
      "text/plain": [
       "(1, 'python', True, 2.5)"
      ]
     },
     "execution_count": 37,
     "metadata": {},
     "output_type": "execute_result"
    }
   ],
   "source": [
    "tup1[0:4]"
   ]
  },
  {
   "cell_type": "markdown",
   "id": "3b0f5981",
   "metadata": {},
   "source": [
    "*count of element in tuple*"
   ]
  },
  {
   "cell_type": "code",
   "execution_count": 38,
   "id": "ce5d2fce",
   "metadata": {},
   "outputs": [
    {
     "data": {
      "text/plain": [
       "4"
      ]
     },
     "execution_count": 38,
     "metadata": {},
     "output_type": "execute_result"
    }
   ],
   "source": [
    "len(tup1)"
   ]
  },
  {
   "cell_type": "markdown",
   "id": "98dff40e",
   "metadata": {},
   "source": [
    "**Plusing tuples or concatinate (to add two tuple or >2)**"
   ]
  },
  {
   "cell_type": "code",
   "execution_count": 39,
   "id": "efe7f698",
   "metadata": {},
   "outputs": [
    {
     "data": {
      "text/plain": [
       "(2, 'baba Aammar', 3.5, False)"
      ]
     },
     "execution_count": 39,
     "metadata": {},
     "output_type": "execute_result"
    }
   ],
   "source": [
    "tup2=(2,\"baba Aammar\",3.5,False)\n",
    "tup2"
   ]
  },
  {
   "cell_type": "code",
   "execution_count": 40,
   "id": "0e688bc2",
   "metadata": {},
   "outputs": [
    {
     "data": {
      "text/plain": [
       "(1, 'python', True, 2.5, 2, 'baba Aammar', 3.5, False)"
      ]
     },
     "execution_count": 40,
     "metadata": {},
     "output_type": "execute_result"
    }
   ],
   "source": [
    "tup1+tup2"
   ]
  },
  {
   "cell_type": "markdown",
   "id": "84f9b495",
   "metadata": {},
   "source": [
    "## Repeat + Concatinate"
   ]
  },
  {
   "cell_type": "code",
   "execution_count": 41,
   "id": "b8fbbdf9",
   "metadata": {},
   "outputs": [
    {
     "data": {
      "text/plain": [
       "(1, 'python', True, 2.5, 1, 'python', True, 2.5, 2, 'baba Aammar', 3.5, False)"
      ]
     },
     "execution_count": 41,
     "metadata": {},
     "output_type": "execute_result"
    }
   ],
   "source": [
    "tup1*2+tup2"
   ]
  },
  {
   "cell_type": "code",
   "execution_count": 42,
   "id": "559a4d1d",
   "metadata": {},
   "outputs": [
    {
     "data": {
      "text/plain": [
       "(20, 50, 30, 60, 79, 80)"
      ]
     },
     "execution_count": 42,
     "metadata": {},
     "output_type": "execute_result"
    }
   ],
   "source": [
    "tup3=(20,50,30,60,79,80)\n",
    "tup3"
   ]
  },
  {
   "cell_type": "markdown",
   "id": "7e12e792",
   "metadata": {},
   "source": [
    "**minimum**"
   ]
  },
  {
   "cell_type": "code",
   "execution_count": 43,
   "id": "017e0200",
   "metadata": {},
   "outputs": [
    {
     "data": {
      "text/plain": [
       "20"
      ]
     },
     "execution_count": 43,
     "metadata": {},
     "output_type": "execute_result"
    }
   ],
   "source": [
    "min(tup3)"
   ]
  },
  {
   "cell_type": "markdown",
   "id": "5186ed75",
   "metadata": {},
   "source": [
    "**maximum**"
   ]
  },
  {
   "cell_type": "code",
   "execution_count": 44,
   "id": "647516e5",
   "metadata": {},
   "outputs": [
    {
     "data": {
      "text/plain": [
       "80"
      ]
     },
     "execution_count": 44,
     "metadata": {},
     "output_type": "execute_result"
    }
   ],
   "source": [
    "max(tup3)"
   ]
  },
  {
   "cell_type": "code",
   "execution_count": 45,
   "id": "8dbdcb55",
   "metadata": {},
   "outputs": [
    {
     "data": {
      "text/plain": [
       "(20, 50, 30, 60, 79, 80, 20, 50, 30, 60, 79, 80)"
      ]
     },
     "execution_count": 45,
     "metadata": {},
     "output_type": "execute_result"
    }
   ],
   "source": [
    "tup3*2"
   ]
  },
  {
   "cell_type": "code",
   "execution_count": 46,
   "id": "1764ce05",
   "metadata": {},
   "outputs": [
    {
     "data": {
      "text/plain": [
       "(20, 50, 30, 60, 79, 80, 2, 'baba Aammar', 3.5, False)"
      ]
     },
     "execution_count": 46,
     "metadata": {},
     "output_type": "execute_result"
    }
   ],
   "source": [
    "tup3+tup2"
   ]
  },
  {
   "cell_type": "markdown",
   "id": "c48b6e66",
   "metadata": {},
   "source": [
    "------"
   ]
  },
  {
   "cell_type": "markdown",
   "id": "77f4b33e",
   "metadata": {},
   "source": [
    "2-**List**"
   ]
  },
  {
   "cell_type": "markdown",
   "id": "b6fe5cc1",
   "metadata": {},
   "source": [
    "- **ordered collection of elements**\n",
    "\n",
    "- **enclosed in [  ] square bracket/braces**\n",
    "\n",
    "- **Mutateable, you can change the values**\n"
   ]
  },
  {
   "cell_type": "code",
   "execution_count": 47,
   "id": "3d519418",
   "metadata": {},
   "outputs": [
    {
     "data": {
      "text/plain": [
       "[2, 'baba Aammar', False]"
      ]
     },
     "execution_count": 47,
     "metadata": {},
     "output_type": "execute_result"
    }
   ],
   "source": [
    "list1=[2,\"baba Aammar\", False]\n",
    "list1"
   ]
  },
  {
   "cell_type": "code",
   "execution_count": 48,
   "id": "2c239578",
   "metadata": {},
   "outputs": [
    {
     "data": {
      "text/plain": [
       "list"
      ]
     },
     "execution_count": 48,
     "metadata": {},
     "output_type": "execute_result"
    }
   ],
   "source": [
    "type(list1)"
   ]
  },
  {
   "cell_type": "code",
   "execution_count": 49,
   "id": "47413c03",
   "metadata": {},
   "outputs": [
    {
     "data": {
      "text/plain": [
       "3"
      ]
     },
     "execution_count": 49,
     "metadata": {},
     "output_type": "execute_result"
    }
   ],
   "source": [
    "len(list1)"
   ]
  },
  {
   "cell_type": "code",
   "execution_count": 50,
   "id": "f10b32c5",
   "metadata": {},
   "outputs": [
    {
     "data": {
      "text/plain": [
       "False"
      ]
     },
     "execution_count": 50,
     "metadata": {},
     "output_type": "execute_result"
    }
   ],
   "source": [
    "list1[2]"
   ]
  },
  {
   "cell_type": "code",
   "execution_count": 51,
   "id": "7ba9301c",
   "metadata": {},
   "outputs": [
    {
     "data": {
      "text/plain": [
       "[3, 5, 'Aammar', 'codanics', 478, 53.2, False]"
      ]
     },
     "execution_count": 51,
     "metadata": {},
     "output_type": "execute_result"
    }
   ],
   "source": [
    "list2=[3,5,\"Aammar\",\"codanics\",478,53.2,False]\n",
    "list2"
   ]
  },
  {
   "cell_type": "code",
   "execution_count": 52,
   "id": "f7cab1a2",
   "metadata": {},
   "outputs": [
    {
     "data": {
      "text/plain": [
       "[2, 'baba Aammar', False, 3, 5, 'Aammar', 'codanics', 478, 53.2, False]"
      ]
     },
     "execution_count": 52,
     "metadata": {},
     "output_type": "execute_result"
    }
   ],
   "source": [
    "list1 + list2"
   ]
  },
  {
   "cell_type": "code",
   "execution_count": 53,
   "id": "11a6db7a",
   "metadata": {},
   "outputs": [
    {
     "data": {
      "text/plain": [
       "[2, 'baba Aammar', False, 2, 'baba Aammar', False]"
      ]
     },
     "execution_count": 53,
     "metadata": {},
     "output_type": "execute_result"
    }
   ],
   "source": [
    "list1*2"
   ]
  },
  {
   "cell_type": "code",
   "execution_count": 54,
   "id": "6758fdb7",
   "metadata": {},
   "outputs": [
    {
     "data": {
      "text/plain": [
       "[3,\n",
       " 5,\n",
       " 'Aammar',\n",
       " 'codanics',\n",
       " 478,\n",
       " 53.2,\n",
       " False,\n",
       " 3,\n",
       " 5,\n",
       " 'Aammar',\n",
       " 'codanics',\n",
       " 478,\n",
       " 53.2,\n",
       " False]"
      ]
     },
     "execution_count": 54,
     "metadata": {},
     "output_type": "execute_result"
    }
   ],
   "source": [
    "list2*2"
   ]
  },
  {
   "cell_type": "code",
   "execution_count": 55,
   "id": "45b6bfe7",
   "metadata": {
    "scrolled": true
   },
   "outputs": [
    {
     "data": {
      "text/plain": [
       "[2, 'baba Aammar', False]"
      ]
     },
     "execution_count": 55,
     "metadata": {},
     "output_type": "execute_result"
    }
   ],
   "source": [
    "list1"
   ]
  },
  {
   "cell_type": "markdown",
   "id": "5cf7a2dc",
   "metadata": {},
   "source": [
    "### reverse"
   ]
  },
  {
   "cell_type": "code",
   "execution_count": 56,
   "id": "1ce1d4d8",
   "metadata": {},
   "outputs": [
    {
     "data": {
      "text/plain": [
       "[False, 'baba Aammar', 2]"
      ]
     },
     "execution_count": 56,
     "metadata": {},
     "output_type": "execute_result"
    }
   ],
   "source": [
    "list1.reverse()\n",
    "list1"
   ]
  },
  {
   "cell_type": "markdown",
   "id": "088165f3",
   "metadata": {},
   "source": [
    "### append or adding something to the existing list"
   ]
  },
  {
   "cell_type": "code",
   "execution_count": 57,
   "id": "1808d360",
   "metadata": {},
   "outputs": [
    {
     "data": {
      "text/plain": [
       "[False, 'baba Aammar', 2, 'codanics Youtube channel']"
      ]
     },
     "execution_count": 57,
     "metadata": {},
     "output_type": "execute_result"
    }
   ],
   "source": [
    "list1.append(\"codanics Youtube channel\")\n",
    "list1\n"
   ]
  },
  {
   "cell_type": "markdown",
   "id": "74aaf3d4",
   "metadata": {},
   "source": [
    "#### count"
   ]
  },
  {
   "cell_type": "code",
   "execution_count": 58,
   "id": "fe5d89b5",
   "metadata": {},
   "outputs": [
    {
     "data": {
      "text/plain": [
       "2"
      ]
     },
     "execution_count": 58,
     "metadata": {},
     "output_type": "execute_result"
    }
   ],
   "source": [
    "list3=[1,2,3,5,3,3,4,6,7,8,4,1,2]\n",
    "list3.count(2)"
   ]
  },
  {
   "cell_type": "markdown",
   "id": "468b92dc",
   "metadata": {},
   "source": [
    "### clear"
   ]
  },
  {
   "cell_type": "code",
   "execution_count": 59,
   "id": "acc1e8b4",
   "metadata": {},
   "outputs": [],
   "source": [
    "list4=[1,2,2,3,4,5,7,8,9,5,2,3,1,4,6]\n",
    "list4.clear()"
   ]
  },
  {
   "cell_type": "code",
   "execution_count": 60,
   "id": "adce4770",
   "metadata": {},
   "outputs": [
    {
     "data": {
      "text/plain": [
       "[]"
      ]
     },
     "execution_count": 60,
     "metadata": {},
     "output_type": "execute_result"
    }
   ],
   "source": [
    "list4 "
   ]
  },
  {
   "cell_type": "code",
   "execution_count": 61,
   "id": "a6c06046",
   "metadata": {},
   "outputs": [
    {
     "data": {
      "text/plain": [
       "[20, 30, 40, 45, 50, 55, 6]"
      ]
     },
     "execution_count": 61,
     "metadata": {},
     "output_type": "execute_result"
    }
   ],
   "source": [
    "list5=[20,30,40,45,50,55,6]\n",
    "list5"
   ]
  },
  {
   "cell_type": "markdown",
   "id": "e20b396d",
   "metadata": {},
   "source": [
    "### length"
   ]
  },
  {
   "cell_type": "code",
   "execution_count": 62,
   "id": "fc18753c",
   "metadata": {},
   "outputs": [
    {
     "data": {
      "text/plain": [
       "7"
      ]
     },
     "execution_count": 62,
     "metadata": {},
     "output_type": "execute_result"
    }
   ],
   "source": [
    "len(list5)"
   ]
  },
  {
   "cell_type": "code",
   "execution_count": 63,
   "id": "41ca392a",
   "metadata": {},
   "outputs": [
    {
     "data": {
      "text/plain": [
       "[20, 30, 40, 45, 50, 55, 6]"
      ]
     },
     "execution_count": 63,
     "metadata": {},
     "output_type": "execute_result"
    }
   ],
   "source": [
    "list5[0:7]"
   ]
  },
  {
   "cell_type": "markdown",
   "id": "cff78545",
   "metadata": {},
   "source": [
    "### sort"
   ]
  },
  {
   "cell_type": "code",
   "execution_count": 64,
   "id": "e7d79bd8",
   "metadata": {},
   "outputs": [
    {
     "data": {
      "text/plain": [
       "[6, 20, 30, 40, 45, 50, 55]"
      ]
     },
     "execution_count": 64,
     "metadata": {},
     "output_type": "execute_result"
    }
   ],
   "source": [
    "list5.sort()\n",
    "list5"
   ]
  },
  {
   "cell_type": "markdown",
   "id": "ffa385f2",
   "metadata": {},
   "source": [
    "### concatinate"
   ]
  },
  {
   "cell_type": "code",
   "execution_count": 65,
   "id": "1c827d89",
   "metadata": {},
   "outputs": [
    {
     "data": {
      "text/plain": [
       "[6, 20, 30, 40, 45, 50, 55]"
      ]
     },
     "execution_count": 65,
     "metadata": {},
     "output_type": "execute_result"
    }
   ],
   "source": [
    "\n",
    "            \n",
    "list5+list4\n"
   ]
  },
  {
   "cell_type": "markdown",
   "id": "341a5ec4",
   "metadata": {},
   "source": [
    "### copy"
   ]
  },
  {
   "cell_type": "code",
   "execution_count": 66,
   "id": "ce5fe9c2",
   "metadata": {},
   "outputs": [
    {
     "data": {
      "text/plain": [
       "[0.2, 22.3]"
      ]
     },
     "execution_count": 66,
     "metadata": {},
     "output_type": "execute_result"
    }
   ],
   "source": [
    "list4=[0.20,22.3]\n",
    "list4.copy()\n",
    "list4"
   ]
  },
  {
   "cell_type": "markdown",
   "id": "a16c653a",
   "metadata": {},
   "source": [
    "### Extend\n"
   ]
  },
  {
   "cell_type": "code",
   "execution_count": 67,
   "id": "1ffbb8bd",
   "metadata": {},
   "outputs": [
    {
     "data": {
      "text/plain": [
       "[24, 34, 54, 64]"
      ]
     },
     "execution_count": 67,
     "metadata": {},
     "output_type": "execute_result"
    }
   ],
   "source": [
    "list6=[34,54,64]\n",
    "list7=[24]\n",
    "list7.extend(list6)\n",
    "list7"
   ]
  },
  {
   "cell_type": "code",
   "execution_count": 68,
   "id": "b8a49371",
   "metadata": {},
   "outputs": [
    {
     "data": {
      "text/plain": [
       "3"
      ]
     },
     "execution_count": 68,
     "metadata": {},
     "output_type": "execute_result"
    }
   ],
   "source": [
    "list7=[24, 34, 54, 64]\n",
    "index=list7.index(64)\n",
    "index"
   ]
  },
  {
   "cell_type": "code",
   "execution_count": 69,
   "id": "b6002ce6",
   "metadata": {},
   "outputs": [
    {
     "data": {
      "text/plain": [
       "54"
      ]
     },
     "execution_count": 69,
     "metadata": {},
     "output_type": "execute_result"
    }
   ],
   "source": [
    "list7[2]"
   ]
  },
  {
   "cell_type": "code",
   "execution_count": 70,
   "id": "1b102eed",
   "metadata": {},
   "outputs": [
    {
     "data": {
      "text/plain": [
       "[24, 34, 54, 64]"
      ]
     },
     "execution_count": 70,
     "metadata": {},
     "output_type": "execute_result"
    }
   ],
   "source": [
    "list7"
   ]
  },
  {
   "cell_type": "markdown",
   "id": "193b95ed",
   "metadata": {},
   "source": [
    "### insert"
   ]
  },
  {
   "cell_type": "code",
   "execution_count": 71,
   "id": "9b1fe369",
   "metadata": {},
   "outputs": [
    {
     "data": {
      "text/plain": [
       "[24, 34, 54, 64, 84]"
      ]
     },
     "execution_count": 71,
     "metadata": {},
     "output_type": "execute_result"
    }
   ],
   "source": [
    "list7.insert(4,84)\n",
    "list7"
   ]
  },
  {
   "cell_type": "markdown",
   "id": "04b44f74",
   "metadata": {},
   "source": [
    "### pop"
   ]
  },
  {
   "cell_type": "code",
   "execution_count": 72,
   "id": "22750704",
   "metadata": {},
   "outputs": [
    {
     "data": {
      "text/plain": [
       "[24, 34, 54, 84]"
      ]
     },
     "execution_count": 72,
     "metadata": {},
     "output_type": "execute_result"
    }
   ],
   "source": [
    "list7.pop(3)\n",
    "list7"
   ]
  },
  {
   "cell_type": "markdown",
   "id": "59154573",
   "metadata": {},
   "source": [
    "### append + sort"
   ]
  },
  {
   "cell_type": "code",
   "execution_count": 73,
   "id": "84638d58",
   "metadata": {},
   "outputs": [
    {
     "data": {
      "text/plain": [
       "[14, 24, 34, 54, 84]"
      ]
     },
     "execution_count": 73,
     "metadata": {},
     "output_type": "execute_result"
    }
   ],
   "source": [
    "\n",
    "list7.append(14)\n",
    "list7.sort()\n",
    "list7"
   ]
  },
  {
   "cell_type": "code",
   "execution_count": 74,
   "id": "16d45cc2",
   "metadata": {},
   "outputs": [
    {
     "data": {
      "text/plain": [
       "[False, 'baba Aammar', 2, 'codanics Youtube channel', 14, 24, 34, 54, 84]"
      ]
     },
     "execution_count": 74,
     "metadata": {},
     "output_type": "execute_result"
    }
   ],
   "source": [
    "list1+list7"
   ]
  },
  {
   "cell_type": "markdown",
   "id": "c44957fe",
   "metadata": {},
   "source": [
    "## 3-Dictionaries"
   ]
  },
  {
   "cell_type": "markdown",
   "id": "19928484",
   "metadata": {},
   "source": [
    "**-An unordered collection of elements**\n",
    "\n",
    "**-Key and Value**\n",
    "\n",
    "**-Curly braces or brackets{  }**\n",
    "\n",
    "**-Mutateable/change the value**"
   ]
  },
  {
   "cell_type": "markdown",
   "id": "5ca6be99",
   "metadata": {},
   "source": [
    "***Food and their prices***"
   ]
  },
  {
   "cell_type": "code",
   "execution_count": 75,
   "id": "397e06de",
   "metadata": {},
   "outputs": [
    {
     "data": {
      "text/plain": [
       "{'Samosa': 30, 'Pakora': 70, 'Raita': 20, 'Salad': 20, 'Checken Rolls': 40}"
      ]
     },
     "execution_count": 75,
     "metadata": {},
     "output_type": "execute_result"
    }
   ],
   "source": [
    "food1={\"Samosa\": 30,\"Pakora\":70,\"Raita\":20,\"Salad\":20,\"Checken Rolls\":40}\n",
    "food1"
   ]
  },
  {
   "cell_type": "code",
   "execution_count": 76,
   "id": "e5b3ed9a",
   "metadata": {},
   "outputs": [
    {
     "data": {
      "text/plain": [
       "dict"
      ]
     },
     "execution_count": 76,
     "metadata": {},
     "output_type": "execute_result"
    }
   ],
   "source": [
    "type(food1)"
   ]
  },
  {
   "cell_type": "markdown",
   "id": "b83e3cd9",
   "metadata": {},
   "source": [
    "### Extract data"
   ]
  },
  {
   "cell_type": "code",
   "execution_count": 77,
   "id": "b4afc762",
   "metadata": {},
   "outputs": [
    {
     "data": {
      "text/plain": [
       "dict_keys(['Samosa', 'Pakora', 'Raita', 'Salad', 'Checken Rolls'])"
      ]
     },
     "execution_count": 77,
     "metadata": {},
     "output_type": "execute_result"
    }
   ],
   "source": [
    "keys1=food1.keys()\n",
    "keys1"
   ]
  },
  {
   "cell_type": "code",
   "execution_count": 78,
   "id": "5c71e23c",
   "metadata": {},
   "outputs": [
    {
     "data": {
      "text/plain": [
       "dict_values([30, 70, 20, 20, 40])"
      ]
     },
     "execution_count": 78,
     "metadata": {},
     "output_type": "execute_result"
    }
   ],
   "source": [
    "values1=food1.values()\n",
    "values1"
   ]
  },
  {
   "cell_type": "markdown",
   "id": "577ae6d2",
   "metadata": {},
   "source": [
    "### Updating or Adding new element"
   ]
  },
  {
   "cell_type": "code",
   "execution_count": 79,
   "id": "f36f9534",
   "metadata": {},
   "outputs": [
    {
     "data": {
      "text/plain": [
       "{'Samosa': 30,\n",
       " 'Pakora': 70,\n",
       " 'Raita': 20,\n",
       " 'Salad': 20,\n",
       " 'Checken Rolls': 40,\n",
       " 'Tikki': 10}"
      ]
     },
     "execution_count": 79,
     "metadata": {},
     "output_type": "execute_result"
    }
   ],
   "source": [
    "food1[\"Tikki\"]=10\n",
    "food1"
   ]
  },
  {
   "cell_type": "code",
   "execution_count": 80,
   "id": "3b558b35",
   "metadata": {},
   "outputs": [
    {
     "data": {
      "text/plain": [
       "{'Samosa': 30,\n",
       " 'Pakora': 70,\n",
       " 'Raita': 20,\n",
       " 'Salad': 20,\n",
       " 'Checken Rolls': 40,\n",
       " 'Tikki': 10,\n",
       " 'Apple': 25}"
      ]
     },
     "execution_count": 80,
     "metadata": {},
     "output_type": "execute_result"
    }
   ],
   "source": [
    "food1\n",
    "food2={\"Apple\":25}\n",
    "food1.update(food2)\n",
    "food1"
   ]
  },
  {
   "cell_type": "code",
   "execution_count": 81,
   "id": "67fd93ca",
   "metadata": {},
   "outputs": [
    {
     "data": {
      "text/plain": [
       "{'Samosa': 30,\n",
       " 'Pakora': 70,\n",
       " 'Raita': 20,\n",
       " 'Salad': 20,\n",
       " 'Checken Rolls': 40,\n",
       " 'Tikki': 10,\n",
       " 'Apple': 25}"
      ]
     },
     "execution_count": 81,
     "metadata": {},
     "output_type": "execute_result"
    }
   ],
   "source": [
    "food1.items()\n",
    "food1"
   ]
  },
  {
   "cell_type": "code",
   "execution_count": 82,
   "id": "b68774c2",
   "metadata": {},
   "outputs": [
    {
     "data": {
      "text/plain": [
       "{'Dates': 50, 'Chpclate': 200, 'sawayyan': 1000, 'tikki': 20}"
      ]
     },
     "execution_count": 82,
     "metadata": {},
     "output_type": "execute_result"
    }
   ],
   "source": [
    "food3={\"Dates\":50,\"Chpclate\":200,\"sawayyan\":1000,\"tikki\":20}\n",
    "food3"
   ]
  },
  {
   "cell_type": "markdown",
   "id": "38827348",
   "metadata": {},
   "source": [
    "***Concatinate***\n"
   ]
  },
  {
   "cell_type": "code",
   "execution_count": 83,
   "id": "36b5aa63",
   "metadata": {},
   "outputs": [
    {
     "data": {
      "text/plain": [
       "{'Samosa': 30,\n",
       " 'Pakora': 70,\n",
       " 'Raita': 20,\n",
       " 'Salad': 20,\n",
       " 'Checken Rolls': 40,\n",
       " 'Tikki': 10,\n",
       " 'Apple': 25,\n",
       " 'Dates': 50,\n",
       " 'Chpclate': 200,\n",
       " 'sawayyan': 1000,\n",
       " 'tikki': 20}"
      ]
     },
     "execution_count": 83,
     "metadata": {},
     "output_type": "execute_result"
    }
   ],
   "source": [
    "food1.update(food3)\n",
    "food1"
   ]
  },
  {
   "cell_type": "markdown",
   "id": "cbaf5a62",
   "metadata": {},
   "source": [
    "**pop**\n"
   ]
  },
  {
   "cell_type": "code",
   "execution_count": 84,
   "id": "ecf42f21",
   "metadata": {},
   "outputs": [
    {
     "data": {
      "text/plain": [
       "{'Samosa': 30,\n",
       " 'Pakora': 70,\n",
       " 'Raita': 20,\n",
       " 'Salad': 20,\n",
       " 'Checken Rolls': 40,\n",
       " 'Tikki': 10,\n",
       " 'Apple': 25,\n",
       " 'Dates': 50,\n",
       " 'Chpclate': 200,\n",
       " 'sawayyan': 1000}"
      ]
     },
     "execution_count": 84,
     "metadata": {},
     "output_type": "execute_result"
    }
   ],
   "source": [
    "food1.pop(\"tikki\")\n",
    "food1"
   ]
  },
  {
   "cell_type": "code",
   "execution_count": 85,
   "id": "c2bfb353",
   "metadata": {},
   "outputs": [
    {
     "data": {
      "text/plain": [
       "{'Apple': 25}"
      ]
     },
     "execution_count": 85,
     "metadata": {},
     "output_type": "execute_result"
    }
   ],
   "source": [
    "food2"
   ]
  },
  {
   "cell_type": "code",
   "execution_count": 86,
   "id": "82d89a16",
   "metadata": {},
   "outputs": [
    {
     "data": {
      "text/plain": [
       "{'Dates': 50, 'Chpclate': 200, 'sawayyan': 1000, 'tikki': 20}"
      ]
     },
     "execution_count": 86,
     "metadata": {},
     "output_type": "execute_result"
    }
   ],
   "source": [
    "food3"
   ]
  },
  {
   "cell_type": "code",
   "execution_count": 87,
   "id": "c81df095",
   "metadata": {},
   "outputs": [
    {
     "data": {
      "text/plain": [
       "dict_keys(['Dates', 'Chpclate', 'sawayyan', 'tikki'])"
      ]
     },
     "execution_count": 87,
     "metadata": {},
     "output_type": "execute_result"
    }
   ],
   "source": [
    "food3.keys()"
   ]
  },
  {
   "cell_type": "code",
   "execution_count": 88,
   "id": "08eaad84",
   "metadata": {},
   "outputs": [
    {
     "data": {
      "text/plain": [
       "dict_values([50, 200, 1000, 20])"
      ]
     },
     "execution_count": 88,
     "metadata": {},
     "output_type": "execute_result"
    }
   ],
   "source": [
    "food3.values()"
   ]
  },
  {
   "cell_type": "code",
   "execution_count": 89,
   "id": "c4fec980",
   "metadata": {},
   "outputs": [
    {
     "data": {
      "text/plain": [
       "50"
      ]
     },
     "execution_count": 89,
     "metadata": {},
     "output_type": "execute_result"
    }
   ],
   "source": [
    "food3.get(\"Dates\")"
   ]
  },
  {
   "cell_type": "code",
   "execution_count": 90,
   "id": "8361632c",
   "metadata": {},
   "outputs": [
    {
     "data": {
      "text/plain": [
       "{'k': 12, 'e': 12, 'y': 12, 's': 12}"
      ]
     },
     "execution_count": 90,
     "metadata": {},
     "output_type": "execute_result"
    }
   ],
   "source": [
    "food3.fromkeys(\"keys\",12)"
   ]
  },
  {
   "cell_type": "markdown",
   "id": "a2685339",
   "metadata": {},
   "source": [
    "## 4-Set"
   ]
  },
  {
   "cell_type": "markdown",
   "id": "8a312e09",
   "metadata": {},
   "source": [
    "**-unordered and unindexed**\n",
    "\n",
    "**-curly braces are used {  }**\n",
    "\n",
    "**-No duplicates allowed**"
   ]
  },
  {
   "cell_type": "code",
   "execution_count": 91,
   "id": "d1ff5e83",
   "metadata": {},
   "outputs": [
    {
     "data": {
      "text/plain": [
       "{1, 21, 5.2, 'Aammar', 'Codanics', 'Peshawar', 'apple'}"
      ]
     },
     "execution_count": 91,
     "metadata": {},
     "output_type": "execute_result"
    }
   ],
   "source": [
    "s1={1,21,5.2,\"Aammar\",\"Codanics\",\"Peshawar\",\"apple\",True}\n",
    "s1"
   ]
  },
  {
   "cell_type": "code",
   "execution_count": 92,
   "id": "b6274027",
   "metadata": {},
   "outputs": [
    {
     "data": {
      "text/plain": [
       "{1, 21, 5.2, 'Aammar', 'Aammar1', 'Codanics', 'Peshawar', 'apple'}"
      ]
     },
     "execution_count": 92,
     "metadata": {},
     "output_type": "execute_result"
    }
   ],
   "source": [
    "s1.add(\"Aammar1\")\n",
    "s1"
   ]
  },
  {
   "cell_type": "code",
   "execution_count": 93,
   "id": "09d797a2",
   "metadata": {},
   "outputs": [
    {
     "data": {
      "text/plain": [
       "{1, 21, 5.2, 'Aammar', 'Codanics', 'Peshawar', 'apple'}"
      ]
     },
     "execution_count": 93,
     "metadata": {},
     "output_type": "execute_result"
    }
   ],
   "source": [
    "s1.remove(\"Aammar1\")\n",
    "s1\n"
   ]
  },
  {
   "cell_type": "code",
   "execution_count": 94,
   "id": "b3c4d4ea",
   "metadata": {},
   "outputs": [
    {
     "data": {
      "text/plain": [
       "{21, 90, 'Pakistan', 'apple', 'banana'}"
      ]
     },
     "execution_count": 94,
     "metadata": {},
     "output_type": "execute_result"
    }
   ],
   "source": [
    "s2={21,90,\"apple\",\"banana\",\"Pakistan\"}\n",
    "s2\n"
   ]
  },
  {
   "cell_type": "code",
   "execution_count": 95,
   "id": "a5907df6",
   "metadata": {},
   "outputs": [
    {
     "data": {
      "text/plain": [
       "{1, 5.2, 'Aammar', 'Codanics', 'Peshawar'}"
      ]
     },
     "execution_count": 95,
     "metadata": {},
     "output_type": "execute_result"
    }
   ],
   "source": [
    "s1.difference(s2)"
   ]
  },
  {
   "cell_type": "code",
   "execution_count": 96,
   "id": "afdc6979",
   "metadata": {},
   "outputs": [
    {
     "data": {
      "text/plain": [
       "{90, 'Pakistan', 'banana'}"
      ]
     },
     "execution_count": 96,
     "metadata": {},
     "output_type": "execute_result"
    }
   ],
   "source": [
    "s2.difference(s1)"
   ]
  },
  {
   "cell_type": "code",
   "execution_count": 97,
   "id": "88fcd464",
   "metadata": {},
   "outputs": [
    {
     "data": {
      "text/plain": [
       "{1, 5.2, 'Aammar', 'Codanics', 'Peshawar'}"
      ]
     },
     "execution_count": 97,
     "metadata": {},
     "output_type": "execute_result"
    }
   ],
   "source": [
    "s1.difference_update(s2)\n",
    "s1"
   ]
  },
  {
   "cell_type": "code",
   "execution_count": 98,
   "id": "5a01a2ff",
   "metadata": {},
   "outputs": [],
   "source": [
    "s2.difference_update(s1)"
   ]
  },
  {
   "cell_type": "code",
   "execution_count": 99,
   "id": "ff7dea82",
   "metadata": {},
   "outputs": [
    {
     "data": {
      "text/plain": [
       "{21, 90, 'Pakistan', 'apple', 'banana'}"
      ]
     },
     "execution_count": 99,
     "metadata": {},
     "output_type": "execute_result"
    }
   ],
   "source": [
    "s2"
   ]
  },
  {
   "cell_type": "code",
   "execution_count": 100,
   "id": "76699353",
   "metadata": {},
   "outputs": [
    {
     "data": {
      "text/plain": [
       "{24, 34, 44, 54, 64}"
      ]
     },
     "execution_count": 100,
     "metadata": {},
     "output_type": "execute_result"
    }
   ],
   "source": [
    "s3={24,34,44,54,64}\n",
    "s3"
   ]
  },
  {
   "cell_type": "code",
   "execution_count": 101,
   "id": "15a8094b",
   "metadata": {},
   "outputs": [
    {
     "data": {
      "text/plain": [
       "{14, 24, 34, 74, 84, 94}"
      ]
     },
     "execution_count": 101,
     "metadata": {},
     "output_type": "execute_result"
    }
   ],
   "source": [
    "s4={14,24,34,74,84,94}\n",
    "s4"
   ]
  },
  {
   "cell_type": "code",
   "execution_count": 102,
   "id": "bf1e5a17",
   "metadata": {},
   "outputs": [
    {
     "data": {
      "text/plain": [
       "{44, 54, 64}"
      ]
     },
     "execution_count": 102,
     "metadata": {},
     "output_type": "execute_result"
    }
   ],
   "source": [
    "s3.difference_update(s4)\n",
    "s3"
   ]
  },
  {
   "cell_type": "code",
   "execution_count": 103,
   "id": "05eb387a",
   "metadata": {},
   "outputs": [
    {
     "data": {
      "text/plain": [
       "{14, 24, 34, 74, 84, 94}"
      ]
     },
     "execution_count": 103,
     "metadata": {},
     "output_type": "execute_result"
    }
   ],
   "source": [
    "s4.difference_update(s3)\n",
    "s4"
   ]
  },
  {
   "cell_type": "code",
   "execution_count": 104,
   "id": "22d7eb5a",
   "metadata": {},
   "outputs": [
    {
     "data": {
      "text/plain": [
       "14"
      ]
     },
     "execution_count": 104,
     "metadata": {},
     "output_type": "execute_result"
    }
   ],
   "source": [
    "min(s4)"
   ]
  },
  {
   "cell_type": "code",
   "execution_count": 105,
   "id": "3921f65c",
   "metadata": {},
   "outputs": [
    {
     "data": {
      "text/plain": [
       "94"
      ]
     },
     "execution_count": 105,
     "metadata": {},
     "output_type": "execute_result"
    }
   ],
   "source": [
    "max(s4)"
   ]
  },
  {
   "cell_type": "code",
   "execution_count": 106,
   "id": "e277a1d9",
   "metadata": {},
   "outputs": [
    {
     "data": {
      "text/plain": [
       "{14, 34, 74, 84, 94}"
      ]
     },
     "execution_count": 106,
     "metadata": {},
     "output_type": "execute_result"
    }
   ],
   "source": [
    "s4.discard(24)\n",
    "s4"
   ]
  },
  {
   "cell_type": "code",
   "execution_count": 107,
   "id": "e43793c8",
   "metadata": {},
   "outputs": [
    {
     "data": {
      "text/plain": [
       "set()"
      ]
     },
     "execution_count": 107,
     "metadata": {},
     "output_type": "execute_result"
    }
   ],
   "source": [
    "s4.intersection(s3)"
   ]
  },
  {
   "cell_type": "code",
   "execution_count": 108,
   "id": "dce01111",
   "metadata": {},
   "outputs": [
    {
     "data": {
      "text/plain": [
       "{14, 44, 54, 64}"
      ]
     },
     "execution_count": 108,
     "metadata": {},
     "output_type": "execute_result"
    }
   ],
   "source": [
    "s3.add(14)\n",
    "s3"
   ]
  },
  {
   "cell_type": "code",
   "execution_count": 109,
   "id": "e8086491",
   "metadata": {},
   "outputs": [
    {
     "data": {
      "text/plain": [
       "{14, 34, 44, 54, 64}"
      ]
     },
     "execution_count": 109,
     "metadata": {},
     "output_type": "execute_result"
    }
   ],
   "source": [
    "s3.add(34)\n",
    "s3"
   ]
  },
  {
   "cell_type": "code",
   "execution_count": 110,
   "id": "288a5eab",
   "metadata": {},
   "outputs": [
    {
     "data": {
      "text/plain": [
       "{14, 24, 34, 44, 54, 64}"
      ]
     },
     "execution_count": 110,
     "metadata": {},
     "output_type": "execute_result"
    }
   ],
   "source": [
    "s3.add(24)\n",
    "s3"
   ]
  },
  {
   "cell_type": "code",
   "execution_count": 111,
   "id": "e931d688",
   "metadata": {},
   "outputs": [
    {
     "data": {
      "text/plain": [
       "{14, 34}"
      ]
     },
     "execution_count": 111,
     "metadata": {},
     "output_type": "execute_result"
    }
   ],
   "source": [
    "s4.intersection(s3)\n"
   ]
  },
  {
   "cell_type": "code",
   "execution_count": 112,
   "id": "249e1299",
   "metadata": {},
   "outputs": [
    {
     "data": {
      "text/plain": [
       "{14, 34, 74, 84, 94}"
      ]
     },
     "execution_count": 112,
     "metadata": {},
     "output_type": "execute_result"
    }
   ],
   "source": [
    "s4\n"
   ]
  },
  {
   "cell_type": "code",
   "execution_count": 113,
   "id": "20b8685a",
   "metadata": {},
   "outputs": [
    {
     "data": {
      "text/plain": [
       "{14, 24, 34, 44, 54, 64}"
      ]
     },
     "execution_count": 113,
     "metadata": {},
     "output_type": "execute_result"
    }
   ],
   "source": [
    "s3"
   ]
  },
  {
   "cell_type": "code",
   "execution_count": 114,
   "id": "26e01307",
   "metadata": {},
   "outputs": [
    {
     "data": {
      "text/plain": [
       "False"
      ]
     },
     "execution_count": 114,
     "metadata": {},
     "output_type": "execute_result"
    }
   ],
   "source": [
    "s3.isdisjoint(s4)\n"
   ]
  },
  {
   "cell_type": "code",
   "execution_count": 115,
   "id": "74e9e97d",
   "metadata": {},
   "outputs": [
    {
     "data": {
      "text/plain": [
       "True"
      ]
     },
     "execution_count": 115,
     "metadata": {},
     "output_type": "execute_result"
    }
   ],
   "source": [
    "s2.isdisjoint(s3)"
   ]
  },
  {
   "cell_type": "code",
   "execution_count": 116,
   "id": "d2279d87",
   "metadata": {},
   "outputs": [
    {
     "data": {
      "text/plain": [
       "False"
      ]
     },
     "execution_count": 116,
     "metadata": {},
     "output_type": "execute_result"
    }
   ],
   "source": [
    "s3.issubset(s4)"
   ]
  },
  {
   "cell_type": "code",
   "execution_count": 117,
   "id": "09ad119f",
   "metadata": {},
   "outputs": [
    {
     "data": {
      "text/plain": [
       "False"
      ]
     },
     "execution_count": 117,
     "metadata": {},
     "output_type": "execute_result"
    }
   ],
   "source": [
    "s3.issuperset(s4)"
   ]
  },
  {
   "cell_type": "code",
   "execution_count": 118,
   "id": "9f8927e3",
   "metadata": {},
   "outputs": [
    {
     "data": {
      "text/plain": [
       "{14, 24, 34, 44, 54, 64}"
      ]
     },
     "execution_count": 118,
     "metadata": {},
     "output_type": "execute_result"
    }
   ],
   "source": [
    "s3"
   ]
  },
  {
   "cell_type": "code",
   "execution_count": 119,
   "id": "011be756",
   "metadata": {},
   "outputs": [
    {
     "data": {
      "text/plain": [
       "64"
      ]
     },
     "execution_count": 119,
     "metadata": {},
     "output_type": "execute_result"
    }
   ],
   "source": [
    "s3.pop()"
   ]
  },
  {
   "cell_type": "code",
   "execution_count": 120,
   "id": "9301841b",
   "metadata": {},
   "outputs": [
    {
     "data": {
      "text/plain": [
       "{14, 24, 34, 44, 54}"
      ]
     },
     "execution_count": 120,
     "metadata": {},
     "output_type": "execute_result"
    }
   ],
   "source": [
    "s3"
   ]
  },
  {
   "cell_type": "code",
   "execution_count": 121,
   "id": "2e5b5297",
   "metadata": {},
   "outputs": [],
   "source": [
    "s5={\"wisal\",\"Hamza\",\"salman\",\"Aammar\",2,4,6}"
   ]
  },
  {
   "cell_type": "code",
   "execution_count": 122,
   "id": "32b8f95f",
   "metadata": {},
   "outputs": [
    {
     "data": {
      "text/plain": [
       "{2, 4, 6, 'Aammar', 'Hamza', 'salman', 'wisal'}"
      ]
     },
     "execution_count": 122,
     "metadata": {},
     "output_type": "execute_result"
    }
   ],
   "source": [
    "s5"
   ]
  },
  {
   "cell_type": "code",
   "execution_count": 123,
   "id": "01e33d0b",
   "metadata": {},
   "outputs": [
    {
     "data": {
      "text/plain": [
       "2"
      ]
     },
     "execution_count": 123,
     "metadata": {},
     "output_type": "execute_result"
    }
   ],
   "source": [
    "s5.pop()"
   ]
  },
  {
   "cell_type": "code",
   "execution_count": 124,
   "id": "0c15474d",
   "metadata": {},
   "outputs": [
    {
     "data": {
      "text/plain": [
       "4"
      ]
     },
     "execution_count": 124,
     "metadata": {},
     "output_type": "execute_result"
    }
   ],
   "source": [
    "s5.pop()"
   ]
  },
  {
   "cell_type": "code",
   "execution_count": 125,
   "id": "f758e481",
   "metadata": {},
   "outputs": [
    {
     "data": {
      "text/plain": [
       "{6, 'Aammar', 'Hamza', 'salman', 'wisal'}"
      ]
     },
     "execution_count": 125,
     "metadata": {},
     "output_type": "execute_result"
    }
   ],
   "source": [
    "s5"
   ]
  },
  {
   "cell_type": "code",
   "execution_count": 126,
   "id": "21a5ac10",
   "metadata": {},
   "outputs": [
    {
     "data": {
      "text/plain": [
       "{14, 24, 34, 44, 54, 6, 'Aammar', 'Hamza', 'salman', 'wisal'}"
      ]
     },
     "execution_count": 126,
     "metadata": {},
     "output_type": "execute_result"
    }
   ],
   "source": [
    "s5.union(s3)"
   ]
  },
  {
   "cell_type": "code",
   "execution_count": null,
   "id": "c71fa714",
   "metadata": {},
   "outputs": [],
   "source": []
  }
 ],
 "metadata": {
  "kernelspec": {
   "display_name": "Python 3 (ipykernel)",
   "language": "python",
   "name": "python3"
  },
  "language_info": {
   "codemirror_mode": {
    "name": "ipython",
    "version": 3
   },
   "file_extension": ".py",
   "mimetype": "text/x-python",
   "name": "python",
   "nbconvert_exporter": "python",
   "pygments_lexer": "ipython3",
   "version": "3.9.7"
  }
 },
 "nbformat": 4,
 "nbformat_minor": 5
}
