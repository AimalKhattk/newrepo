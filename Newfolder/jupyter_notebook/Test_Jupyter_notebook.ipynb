{
 "cells": [
  {
   "cell_type": "markdown",
   "id": "8258f252",
   "metadata": {},
   "source": [
    "# Python with Baba_Aammar\n",
    "\n",
    "## Data science\n",
    "\n",
    "### How to use Jupyter Notebook"
   ]
  },
  {
   "cell_type": "markdown",
   "id": "c207ecee",
   "metadata": {},
   "source": [
    "01 **First Program**"
   ]
  },
  {
   "cell_type": "code",
   "execution_count": 1,
   "id": "f125df6b",
   "metadata": {},
   "outputs": [
    {
     "name": "stdout",
     "output_type": "stream",
     "text": [
      "5\n",
      "hello\n",
      "how are you\n",
      "continue\n",
      "we ar going finally\n"
     ]
    }
   ],
   "source": [
    "print(2+3)\n",
    "print(\"hello\")\n",
    "print(\"how are you\")\n",
    "print(\"continue\")\n",
    "print(\"we ar going finally\")\n"
   ]
  },
  {
   "cell_type": "markdown",
   "id": "af40ba6e",
   "metadata": {},
   "source": [
    "02 **Operators**"
   ]
  },
  {
   "cell_type": "code",
   "execution_count": 2,
   "id": "36b2a9a5",
   "metadata": {},
   "outputs": [
    {
     "name": "stdout",
     "output_type": "stream",
     "text": [
      "5\n",
      "2\n",
      "3.0\n",
      "6\n",
      "1\n",
      "3\n",
      "81\n"
     ]
    }
   ],
   "source": [
    "print(2+3)\n",
    "print(3-1)\n",
    "print(6/2)\n",
    "print(2*3)\n",
    "print(13%2)\n",
    "print(6//2)\n",
    "print(3**4)\n"
   ]
  },
  {
   "cell_type": "markdown",
   "id": "d4a32f50",
   "metadata": {},
   "source": [
    "03 **Strings**"
   ]
  },
  {
   "cell_type": "code",
   "execution_count": 3,
   "id": "6d0f6b41",
   "metadata": {},
   "outputs": [
    {
     "name": "stdout",
     "output_type": "stream",
     "text": [
      "hello\n",
      "  hello  \n",
      "    hello\n"
     ]
    }
   ],
   "source": [
    "print('hello')\n",
    "print(\"  hello  \")\n",
    "print('''    hello''')"
   ]
  },
  {
   "cell_type": "markdown",
   "id": "c0a7af76",
   "metadata": {},
   "source": [
    "04 **Comments**"
   ]
  },
  {
   "cell_type": "code",
   "execution_count": 4,
   "id": "00e9f4da",
   "metadata": {},
   "outputs": [
    {
     "name": "stdout",
     "output_type": "stream",
     "text": [
      "5\n",
      "hello\n",
      "how are you\n",
      "continue\n",
      "we ar going finally\n"
     ]
    }
   ],
   "source": [
    "print(2+3)\n",
    "print(\"hello\")\n",
    "print(\"how are you\")\n",
    "print(\"continue\")\n",
    "print(\"we ar going finally\")"
   ]
  },
  {
   "cell_type": "markdown",
   "id": "7770abf9",
   "metadata": {},
   "source": [
    "ctrl plus /\n",
    "\n",
    "to comment out"
   ]
  },
  {
   "cell_type": "markdown",
   "id": "33218ec7",
   "metadata": {},
   "source": [
    "05 **Variables**"
   ]
  },
  {
   "cell_type": "code",
   "execution_count": 5,
   "id": "bfceba46",
   "metadata": {},
   "outputs": [
    {
     "name": "stdout",
     "output_type": "stream",
     "text": [
      "4\n",
      "hello\n",
      "hellohellohellohello\n",
      "<class 'int'>\n",
      "<class 'str'>\n",
      "mangoes\n",
      "<class 'str'>\n",
      "4\n",
      "hello\n",
      "mangoes\n",
      "4 mangoes hello\n"
     ]
    }
   ],
   "source": [
    "x=4\n",
    "print(x)\n",
    "y=\"hello\"\n",
    "print(y)\n",
    "print(x*y)\n",
    "print(type(x))\n",
    "print(type(y))\n",
    "z=\"mangoes\"\n",
    "print(z)\n",
    "print(type(z))\n",
    "print(x)\n",
    "print(y)\n",
    "print(z)\n",
    "print(x,z,y)\n"
   ]
  },
  {
   "cell_type": "markdown",
   "id": "f66b59db",
   "metadata": {},
   "source": [
    "*variables means object containing specific values\n",
    "\n",
    "For example;\n",
    "\n",
    "X=5\n",
    "\n",
    "Y=\"we are learning python with Aammar\"\n",
    "\n",
    "*Types of variables*\n",
    "\n",
    "type(x)\n",
    "\n",
    "print(type(X))  'int' means **integer**\n",
    "\n",
    "print(type(y))  'str' means **strings** \n",
    "\n",
    "*Rules to assign a variable*\n",
    "\n",
    "1-The variable should contain letters, numbers or underscores\n",
    "\n",
    "2-Do not start with numbers\n",
    "\n",
    "3-Spaces are not allowed\n",
    "\n",
    "4-Do not use keywords used in functions\n",
    "(**False, await, else, import, pass, None, break, except, in, raise, True, class, finally, is, return, and,\tcontinue, for,\tlambda,\ttry, as, def, from, nonlocal, while, assert, del, global, not, with, async,\telif, if, or, yield,**)"
   ]
  },
  {
   "cell_type": "markdown",
   "id": "695adb6e",
   "metadata": {},
   "source": [
    "06 **Input variables**"
   ]
  },
  {
   "cell_type": "markdown",
   "id": "211a967c",
   "metadata": {},
   "source": [
    " *input simple function*\n"
   ]
  },
  {
   "cell_type": "code",
   "execution_count": 6,
   "id": "478cb831",
   "metadata": {},
   "outputs": [
    {
     "name": "stdout",
     "output_type": "stream",
     "text": [
      "mangoes\n",
      "What is your favourite fruit? wisal\n",
      "wisal\n",
      "hello! wisal\n"
     ]
    }
   ],
   "source": [
    "fruit_basket=\"mangoes\"\n",
    "print(fruit_basket)\n",
    "fruit_basket=input(\"What is your favourite fruit? \")\n",
    "print(fruit_basket)\n",
    "greetings=\"hello!\"  \n",
    "print(greetings, fruit_basket)"
   ]
  },
  {
   "cell_type": "code",
   "execution_count": 7,
   "id": "79b9e1cc",
   "metadata": {},
   "outputs": [
    {
     "name": "stdout",
     "output_type": "stream",
     "text": [
      "what is your name? wisal\n",
      "how old are you? 22\n",
      "Hello! wisal you are still young\n"
     ]
    }
   ],
   "source": [
    "name=input(\"what is your name? \")\n",
    "age=input(\"how old are you? \")\n",
    "greetings=\"Hello!\"\n",
    "print(greetings, name, \"you are still young\")"
   ]
  },
  {
   "cell_type": "code",
   "execution_count": 8,
   "id": "797a68c5",
   "metadata": {},
   "outputs": [
    {
     "name": "stdout",
     "output_type": "stream",
     "text": [
      "what is your name? anis\n",
      "hello! anis\n"
     ]
    }
   ],
   "source": [
    "\n",
    "name=input(\"what is your name? \")\n",
    "greetings= \"hello!\"\n",
    "print(greetings,name)\n"
   ]
  },
  {
   "cell_type": "markdown",
   "id": "aa2d17ec",
   "metadata": {},
   "source": [
    "07 **Conditional logic**\n"
   ]
  },
  {
   "cell_type": "markdown",
   "id": "7189f825",
   "metadata": {},
   "source": [
    "**or logical operators** \n",
    "\n",
    "**Logical operators are either \"true or false \" or \"yes or no\" or \"0 or 1\"**\n",
    "\n",
    "**equal to                      ==** \n",
    "\n",
    "**not equal to                  !=**\n",
    "\n",
    "**less than                      <**\n",
    "\n",
    "**greater than                  >**\n",
    "\n",
    "**less than and equals to       <=**\n",
    "\n",
    "**greater than and equals to    >=**"
   ]
  },
  {
   "cell_type": "markdown",
   "id": "6abc9222",
   "metadata": {},
   "source": [
    "is 4 equal to 4  ?"
   ]
  },
  {
   "cell_type": "code",
   "execution_count": 9,
   "id": "2f39dc70",
   "metadata": {},
   "outputs": [
    {
     "name": "stdout",
     "output_type": "stream",
     "text": [
      "True\n",
      "False\n",
      "True\n",
      "True\n",
      "True\n",
      "True\n"
     ]
    }
   ],
   "source": [
    "\n",
    "print(4==4)\n",
    "print(4!=4)\n",
    "print(4>3)\n",
    "print(3<6)\n",
    "print(3<=5)\n",
    "print(5>=4)"
   ]
  },
  {
   "cell_type": "markdown",
   "id": "161447ca",
   "metadata": {},
   "source": [
    "***application of logical operators***"
   ]
  },
  {
   "cell_type": "code",
   "execution_count": 10,
   "id": "2cce6938",
   "metadata": {},
   "outputs": [
    {
     "name": "stdout",
     "output_type": "stream",
     "text": [
      "False\n",
      "True\n"
     ]
    }
   ],
   "source": [
    "hammad_age=4\n",
    "age_at_school=5\n",
    "print(hammad_age==age_at_school)\n",
    "age_at_school=5\n",
    "\n",
    "print(hammad_age!=age_at_school)"
   ]
  },
  {
   "cell_type": "code",
   "execution_count": null,
   "id": "348fe0a8",
   "metadata": {},
   "outputs": [],
   "source": [
    "age_at_school=5\n",
    "hammad_age=input(\"How old is hammad ?  \")\n",
    "hammad_age=int(hammad_age)\n",
    "print(type(hammad_age) )\n",
    "print(hammad_age==age_at_school)"
   ]
  },
  {
   "cell_type": "markdown",
   "id": "9b564fa3",
   "metadata": {},
   "source": [
    "X=10                                              **integer**\n",
    "\n",
    "y=10.2                                             **float**\n",
    "\n",
    "z=\"hello\"                                          **strings**\n",
    " \n",
    " x=x*y                                              ***float***\n",
    " \n",
    " x=x+y                                              ***float*** \n",
    "\n",
    "implicit conversion\n",
    "\n",
    "print(x, \"Type of x is;\", type(x) )"
   ]
  },
  {
   "cell_type": "code",
   "execution_count": 12,
   "id": "dec26a1a",
   "metadata": {},
   "outputs": [
    {
     "name": "stdout",
     "output_type": "stream",
     "text": [
      "<class 'float'>\n",
      "112.2 Type of x is; <class 'float'>\n"
     ]
    }
   ],
   "source": [
    "x=10\n",
    "y=10.2\n",
    "z=\"hello\"\n",
    "\n",
    "x=x*y\n",
    "x=x+y\n",
    "print(type(x))\n",
    "print (x, \"Type of x is;\",type(x))"
   ]
  },
  {
   "cell_type": "markdown",
   "id": "9c9ff751",
   "metadata": {},
   "source": [
    "***explicit type conversion***"
   ]
  },
  {
   "cell_type": "code",
   "execution_count": 13,
   "id": "2ac8cbfe",
   "metadata": {},
   "outputs": [
    {
     "name": "stdout",
     "output_type": "stream",
     "text": [
      "what is your age ? 18\n",
      "18 <class 'float'>\n"
     ]
    }
   ],
   "source": [
    "age=input(\"what is your age ? \")\n",
    "age=int(age)\n",
    "print(age,type(float(age)))"
   ]
  },
  {
   "cell_type": "code",
   "execution_count": 14,
   "id": "a9f742c2",
   "metadata": {},
   "outputs": [
    {
     "name": "stdout",
     "output_type": "stream",
     "text": [
      "What is your name? wisal\n",
      "wisal <class 'str'>\n"
     ]
    }
   ],
   "source": [
    "name=input(\"What is your name? \")\n",
    "\n",
    "print(name,type(str(name)))"
   ]
  },
  {
   "cell_type": "markdown",
   "id": "4a406da8",
   "metadata": {},
   "source": [
    " 09   **if_else_elif statements**\n",
    " \n",
    "*question: can hammad go to school ?*"
   ]
  },
  {
   "cell_type": "code",
   "execution_count": null,
   "id": "8cfe263d",
   "metadata": {},
   "outputs": [],
   "source": [
    "hammad_age=7\n",
    "required_age_at_school=6\n",
    "\n",
    "if hammad_age==required_age_at_school :\n",
    "    print(\"hammad can go to school\")\n",
    "elif hammad_age > required_age_at_school:\n",
    "    print(\"hammad should join the college\")\n",
    "elif hammad_age <= 5  :\n",
    "     print(\"hammad is still a baby\")        \n",
    "elif hammad_age == 50 :\n",
    "    print(\"Hammad should do business\")         \n",
    "else:\n",
    "    print(\"hamad can not go to school\" )\n"
   ]
  },
  {
   "cell_type": "markdown",
   "id": "6c518ba0",
   "metadata": {},
   "source": [
    "10 ***Functions***"
   ]
  },
  {
   "cell_type": "markdown",
   "id": "52155b8e",
   "metadata": {},
   "source": [
    "print(\"we are learning with Aammar\")\n",
    "\n",
    "print(\"we are learning with Aammar\")\n",
    "\n",
    "print(\"we are learning with Aammar\")\n",
    "\n",
    "print(\"we are learning with Aammar\")\n",
    "\n",
    "print(\"we are learning with Aammar\")"
   ]
  },
  {
   "cell_type": "markdown",
   "id": "b68843ed",
   "metadata": {},
   "source": [
    "\n",
    "1) **defining a function**"
   ]
  },
  {
   "cell_type": "code",
   "execution_count": 16,
   "id": "9d9b9441",
   "metadata": {},
   "outputs": [
    {
     "name": "stdout",
     "output_type": "stream",
     "text": [
      "we are learning with Aammar\n",
      "we are learning with Aammar\n",
      "we are learning with Aammar\n",
      "we are learning with Aammar\n",
      "we are learning with Aammar\n",
      "we are learning with Aammar\n"
     ]
    }
   ],
   "source": [
    "\n",
    "\n",
    "\n",
    "def print_codanics():\n",
    "    print(\"we are learning with Aammar\")\n",
    "    print(\"we are learning with Aammar\")\n",
    "    print(\"we are learning with Aammar\")\n",
    "    print(\"we are learning with Aammar\")\n",
    "    print(\"we are learning with Aammar\")\n",
    "    print(\"we are learning with Aammar\")    \n",
    "\n",
    "print_codanics()\n",
    "\n",
    "\n",
    "\n",
    "\n"
   ]
  },
  {
   "cell_type": "markdown",
   "id": "7e468673",
   "metadata": {},
   "source": [
    "2) "
   ]
  },
  {
   "cell_type": "code",
   "execution_count": 17,
   "id": "07f85cc3",
   "metadata": {},
   "outputs": [
    {
     "name": "stdout",
     "output_type": "stream",
     "text": [
      "we are learning with aammar in codanics youtube channel\n",
      "we are learning with aammar in codanics youtube channel\n",
      "we are learning with aammar in codanics youtube channel\n",
      "we are learning with aammar in codanics youtube channel\n"
     ]
    }
   ],
   "source": [
    "def print_codanics():\n",
    "    text = \"we are learning with aammar in codanics youtube channel\"\n",
    "\n",
    "\n",
    "    print(text)\n",
    "    print(text)\n",
    "    print(text)\n",
    "    print(text)\n",
    "    \n",
    "print_codanics()"
   ]
  },
  {
   "cell_type": "markdown",
   "id": "daed1f7a",
   "metadata": {},
   "source": [
    "3)"
   ]
  },
  {
   "cell_type": "code",
   "execution_count": 18,
   "id": "3eb52999",
   "metadata": {},
   "outputs": [
    {
     "name": "stdout",
     "output_type": "stream",
     "text": [
      "hello, we are learning python with ammar in cordanic youtube channel\n",
      "hello, we are learning python with ammar in cordanic youtube channel\n",
      "hello, we are learning python with ammar in cordanic youtube channel\n",
      "hello, we are learning python with ammar in cordanic youtube channel\n"
     ]
    }
   ],
   "source": [
    "def print_codenics(text):\n",
    "    \n",
    "    print(text)\n",
    "    print(text)\n",
    "    print(text)\n",
    "    print(text)\n",
    "    \n",
    "print_codenics(\"hello, we are learning python with ammar in cordanic youtube channel\")\n"
   ]
  },
  {
   "cell_type": "markdown",
   "id": "12c63dbd",
   "metadata": {},
   "source": [
    "4)"
   ]
  },
  {
   "cell_type": "markdown",
   "id": "4b608d3e",
   "metadata": {},
   "source": [
    "**defining a function with if, elif and else statements**"
   ]
  },
  {
   "cell_type": "code",
   "execution_count": 19,
   "id": "4e4b5ba5",
   "metadata": {},
   "outputs": [
    {
     "name": "stdout",
     "output_type": "stream",
     "text": [
      "Hammad is still ababy\n"
     ]
    }
   ],
   "source": [
    "def school_calculator(age):\n",
    "    \n",
    "    if age ==5:\n",
    "        print(\"Hammad can join the school\") \n",
    "    elif age>5:\n",
    "        print(\"Hammad should go to higher school\")\n",
    "    else :\n",
    "        print(\"Hammad is still ababy\")\n",
    "school_calculator(2)    "
   ]
  },
  {
   "cell_type": "markdown",
   "id": "6cbbe420",
   "metadata": {},
   "source": [
    "5)\n",
    "\n",
    " **defining a function of future**"
   ]
  },
  {
   "cell_type": "code",
   "execution_count": 20,
   "id": "7bf947cf",
   "metadata": {},
   "outputs": [
    {
     "name": "stdout",
     "output_type": "stream",
     "text": [
      "32\n"
     ]
    }
   ],
   "source": [
    "def future_age(age):\n",
    "    \n",
    "    new_age=age+20\n",
    "    return new_age\n",
    "     \n",
    "future_predicted_age=future_age(12)\n",
    "print(future_predicted_age)"
   ]
  },
  {
   "cell_type": "markdown",
   "id": "85d353f5",
   "metadata": {},
   "source": [
    "11) **loops**\n",
    "\n",
    "  ***While and for loops***\n",
    "  \n",
    "   **while loops**"
   ]
  },
  {
   "cell_type": "code",
   "execution_count": 21,
   "id": "ff76cae5",
   "metadata": {},
   "outputs": [],
   "source": [
    "x-0\n",
    "while(x<6):\n",
    "    print(x)\n",
    "    \n",
    "    x=x+1"
   ]
  },
  {
   "cell_type": "markdown",
   "id": "9001c174",
   "metadata": {},
   "source": [
    "**for loop**"
   ]
  },
  {
   "cell_type": "code",
   "execution_count": 22,
   "id": "4950c6b4",
   "metadata": {},
   "outputs": [
    {
     "name": "stdout",
     "output_type": "stream",
     "text": [
      "3\n",
      "4\n",
      "5\n",
      "6\n",
      "7\n",
      "8\n",
      "9\n",
      "10\n"
     ]
    }
   ],
   "source": [
    "\n",
    "for x in range(3,11):\n",
    "    print(x)\n",
    "    "
   ]
  },
  {
   "cell_type": "markdown",
   "id": "371bbe31",
   "metadata": {},
   "source": [
    "**array meansdata set**"
   ]
  },
  {
   "cell_type": "code",
   "execution_count": 23,
   "id": "4c7880df",
   "metadata": {},
   "outputs": [
    {
     "name": "stdout",
     "output_type": "stream",
     "text": [
      "Mon\n",
      "Tue\n",
      "Wed\n",
      "Thu\n"
     ]
    }
   ],
   "source": [
    "days=[\"Mon\",\"Tue\",\"Wed\",\"Thu\",\"Fri\",\"Sat\",\"Sun\"]\n",
    "for d in days:\n",
    "    if (d==\"Fri\"):break        \n",
    "    if (d==\"Fri\"):continue     \n",
    "    print(d)"
   ]
  },
  {
   "cell_type": "markdown",
   "id": "9786f92c",
   "metadata": {},
   "source": [
    "if (d==\"Fri\"):break               **loop stops**\n",
    "if (d==\"Fri\"):continue            **skips d**"
   ]
  },
  {
   "cell_type": "markdown",
   "id": "74f4bdba",
   "metadata": {},
   "source": [
    "12)**import libraries**"
   ]
  },
  {
   "cell_type": "code",
   "execution_count": 24,
   "id": "e9f02e05",
   "metadata": {},
   "outputs": [
    {
     "name": "stdout",
     "output_type": "stream",
     "text": [
      "The value of pi is  3.141592653589793\n"
     ]
    }
   ],
   "source": [
    "import math\n",
    "\n",
    "print(\"The value of pi is \", math.pi)\n"
   ]
  },
  {
   "cell_type": "code",
   "execution_count": 25,
   "id": "9817ef2b",
   "metadata": {},
   "outputs": [
    {
     "name": "stdout",
     "output_type": "stream",
     "text": [
      "300\n"
     ]
    }
   ],
   "source": [
    "import statistics\n",
    "x=[150, 250,350, 450]\n",
    "\n",
    "print(statistics.mean(x))\n"
   ]
  },
  {
   "cell_type": "markdown",
   "id": "a50c5b29",
   "metadata": {},
   "source": [
    "***numpy ,  pandas  importamt libraries***"
   ]
  },
  {
   "cell_type": "markdown",
   "id": "51c6e24a",
   "metadata": {},
   "source": [
    "13)**Trouble_shooting**"
   ]
  },
  {
   "cell_type": "markdown",
   "id": "5e07787c",
   "metadata": {},
   "source": [
    "**print(we are learning with Aammar)**\n",
    "\n",
    "**SyntaxError forgot comma**\n",
    "\n",
    "**print(25/0)  runtime error or Zero DivisionError**\n",
    "\n",
    "\n",
    "**from unicodedata import name**\n",
    "\n",
    "\n",
    "**name=\"Aammar\"**\n",
    "\n",
    "**print(\"hello name\")  #symantec error**"
   ]
  },
  {
   "cell_type": "code",
   "execution_count": null,
   "id": "90776074",
   "metadata": {},
   "outputs": [],
   "source": []
  }
 ],
 "metadata": {
  "kernelspec": {
   "display_name": "Python 3 (ipykernel)",
   "language": "python",
   "name": "python3"
  },
  "language_info": {
   "codemirror_mode": {
    "name": "ipython",
    "version": 3
   },
   "file_extension": ".py",
   "mimetype": "text/x-python",
   "name": "python",
   "nbconvert_exporter": "python",
   "pygments_lexer": "ipython3",
   "version": "3.9.7"
  }
 },
 "nbformat": 4,
 "nbformat_minor": 5
}
