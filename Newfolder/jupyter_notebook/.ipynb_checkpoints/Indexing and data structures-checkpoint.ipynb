{
 "cells": [
  {
   "cell_type": "markdown",
   "id": "48b0a333",
   "metadata": {},
   "source": [
    "# _Indexing"
   ]
  },
  {
   "cell_type": "markdown",
   "id": "98997f49",
   "metadata": {},
   "source": [
    "**make a string**"
   ]
  },
  {
   "cell_type": "code",
   "execution_count": 48,
   "id": "e5654fd8",
   "metadata": {},
   "outputs": [
    {
     "data": {
      "text/plain": [
       "'Samosa Pakora'"
      ]
     },
     "execution_count": 48,
     "metadata": {},
     "output_type": "execute_result"
    }
   ],
   "source": [
    "a=\"Samosa Pakora\"\n",
    "a"
   ]
  },
  {
   "cell_type": "code",
   "execution_count": 49,
   "id": "47e4d2fe",
   "metadata": {},
   "outputs": [
    {
     "data": {
      "text/plain": [
       "'Samosa Pakora'"
      ]
     },
     "execution_count": 49,
     "metadata": {},
     "output_type": "execute_result"
    }
   ],
   "source": [
    "a"
   ]
  },
  {
   "cell_type": "code",
   "execution_count": 50,
   "id": "a7769de1",
   "metadata": {},
   "outputs": [
    {
     "data": {
      "text/plain": [
       "'S'"
      ]
     },
     "execution_count": 50,
     "metadata": {},
     "output_type": "execute_result"
    }
   ],
   "source": [
    "a[0]"
   ]
  },
  {
   "cell_type": "code",
   "execution_count": 51,
   "id": "08762d29",
   "metadata": {},
   "outputs": [
    {
     "data": {
      "text/plain": [
       "'a'"
      ]
     },
     "execution_count": 51,
     "metadata": {},
     "output_type": "execute_result"
    }
   ],
   "source": [
    "a[1]"
   ]
  },
  {
   "cell_type": "code",
   "execution_count": 52,
   "id": "f9be5cc5",
   "metadata": {},
   "outputs": [
    {
     "data": {
      "text/plain": [
       "'m'"
      ]
     },
     "execution_count": 52,
     "metadata": {},
     "output_type": "execute_result"
    }
   ],
   "source": [
    "a[2]"
   ]
  },
  {
   "cell_type": "code",
   "execution_count": 53,
   "id": "515945a1",
   "metadata": {},
   "outputs": [
    {
     "data": {
      "text/plain": [
       "'o'"
      ]
     },
     "execution_count": 53,
     "metadata": {},
     "output_type": "execute_result"
    }
   ],
   "source": [
    "a[3]"
   ]
  },
  {
   "cell_type": "code",
   "execution_count": 54,
   "id": "f0997253",
   "metadata": {},
   "outputs": [
    {
     "data": {
      "text/plain": [
       "'s'"
      ]
     },
     "execution_count": 54,
     "metadata": {},
     "output_type": "execute_result"
    }
   ],
   "source": [
    "a[4]\n"
   ]
  },
  {
   "cell_type": "code",
   "execution_count": 55,
   "id": "90fe3922",
   "metadata": {},
   "outputs": [
    {
     "data": {
      "text/plain": [
       "'a'"
      ]
     },
     "execution_count": 55,
     "metadata": {},
     "output_type": "execute_result"
    }
   ],
   "source": [
    "a[5]"
   ]
  },
  {
   "cell_type": "markdown",
   "id": "d842d8df",
   "metadata": {},
   "source": [
    "**Length of indeces**"
   ]
  },
  {
   "cell_type": "code",
   "execution_count": 56,
   "id": "3c86b48b",
   "metadata": {},
   "outputs": [
    {
     "data": {
      "text/plain": [
       "13"
      ]
     },
     "execution_count": 56,
     "metadata": {},
     "output_type": "execute_result"
    }
   ],
   "source": [
    "len(a)"
   ]
  },
  {
   "cell_type": "code",
   "execution_count": 57,
   "id": "ee490efd",
   "metadata": {},
   "outputs": [
    {
     "data": {
      "text/plain": [
       "'Samosa Pakora'"
      ]
     },
     "execution_count": 57,
     "metadata": {},
     "output_type": "execute_result"
    }
   ],
   "source": [
    "a[0:13]"
   ]
  },
  {
   "cell_type": "code",
   "execution_count": 58,
   "id": "3f0bd667",
   "metadata": {},
   "outputs": [
    {
     "data": {
      "text/plain": [
       "'Samos'"
      ]
     },
     "execution_count": 58,
     "metadata": {},
     "output_type": "execute_result"
    }
   ],
   "source": [
    "a[0:5]"
   ]
  },
  {
   "cell_type": "markdown",
   "id": "9a651703",
   "metadata": {},
   "source": [
    "**Last Index is Exclusive**"
   ]
  },
  {
   "cell_type": "code",
   "execution_count": 59,
   "id": "9a63f248",
   "metadata": {},
   "outputs": [
    {
     "data": {
      "text/plain": [
       "'Samosa'"
      ]
     },
     "execution_count": 59,
     "metadata": {},
     "output_type": "execute_result"
    }
   ],
   "source": [
    "a[0:6]"
   ]
  },
  {
   "cell_type": "code",
   "execution_count": 60,
   "id": "1350be3c",
   "metadata": {},
   "outputs": [
    {
     "data": {
      "text/plain": [
       "'a'"
      ]
     },
     "execution_count": 60,
     "metadata": {},
     "output_type": "execute_result"
    }
   ],
   "source": [
    "a[-1]"
   ]
  },
  {
   "cell_type": "code",
   "execution_count": 61,
   "id": "70b7c63e",
   "metadata": {},
   "outputs": [
    {
     "data": {
      "text/plain": [
       "'Pakor'"
      ]
     },
     "execution_count": 61,
     "metadata": {},
     "output_type": "execute_result"
    }
   ],
   "source": [
    "a[-6:-1]"
   ]
  },
  {
   "cell_type": "code",
   "execution_count": 62,
   "id": "2e5c5a88",
   "metadata": {},
   "outputs": [
    {
     "data": {
      "text/plain": [
       "'Pakora'"
      ]
     },
     "execution_count": 62,
     "metadata": {},
     "output_type": "execute_result"
    }
   ],
   "source": [
    "a[-6:13]"
   ]
  },
  {
   "cell_type": "code",
   "execution_count": 63,
   "id": "1cf315b1",
   "metadata": {},
   "outputs": [
    {
     "data": {
      "text/plain": [
       "'biryani'"
      ]
     },
     "execution_count": 63,
     "metadata": {},
     "output_type": "execute_result"
    }
   ],
   "source": [
    "food=\"biryani\"\n",
    "food"
   ]
  },
  {
   "cell_type": "markdown",
   "id": "90f20d9f",
   "metadata": {},
   "source": [
    "## String  methods"
   ]
  },
  {
   "cell_type": "code",
   "execution_count": 64,
   "id": "c286bf0e",
   "metadata": {},
   "outputs": [
    {
     "data": {
      "text/plain": [
       "'biryani'"
      ]
     },
     "execution_count": 64,
     "metadata": {},
     "output_type": "execute_result"
    }
   ],
   "source": [
    "food"
   ]
  },
  {
   "cell_type": "code",
   "execution_count": 65,
   "id": "32c6df01",
   "metadata": {},
   "outputs": [
    {
     "data": {
      "text/plain": [
       "7"
      ]
     },
     "execution_count": 65,
     "metadata": {},
     "output_type": "execute_result"
    }
   ],
   "source": [
    "len(food)"
   ]
  },
  {
   "cell_type": "markdown",
   "id": "499d69b3",
   "metadata": {},
   "source": [
    "**Capitalize every element**"
   ]
  },
  {
   "cell_type": "code",
   "execution_count": 66,
   "id": "ed900358",
   "metadata": {},
   "outputs": [
    {
     "data": {
      "text/plain": [
       "'Biryani'"
      ]
     },
     "execution_count": 66,
     "metadata": {},
     "output_type": "execute_result"
    }
   ],
   "source": [
    "food.capitalize()"
   ]
  },
  {
   "cell_type": "markdown",
   "id": "55c85736",
   "metadata": {},
   "source": [
    "**Uppercase Letters**"
   ]
  },
  {
   "cell_type": "code",
   "execution_count": 67,
   "id": "20ca462f",
   "metadata": {},
   "outputs": [
    {
     "data": {
      "text/plain": [
       "'BIRYANI'"
      ]
     },
     "execution_count": 67,
     "metadata": {},
     "output_type": "execute_result"
    }
   ],
   "source": [
    "food.upper()"
   ]
  },
  {
   "cell_type": "markdown",
   "id": "6dbeb9d5",
   "metadata": {},
   "source": [
    "**Lowercase Letters**"
   ]
  },
  {
   "cell_type": "code",
   "execution_count": 68,
   "id": "6e11ba40",
   "metadata": {},
   "outputs": [
    {
     "data": {
      "text/plain": [
       "'biryani'"
      ]
     },
     "execution_count": 68,
     "metadata": {},
     "output_type": "execute_result"
    }
   ],
   "source": [
    "food.lower()"
   ]
  },
  {
   "cell_type": "markdown",
   "id": "fbf59bac",
   "metadata": {},
   "source": [
    "**Replace**"
   ]
  },
  {
   "cell_type": "code",
   "execution_count": 69,
   "id": "de30176f",
   "metadata": {},
   "outputs": [
    {
     "data": {
      "text/plain": [
       "'Shiryani'"
      ]
     },
     "execution_count": 69,
     "metadata": {},
     "output_type": "execute_result"
    }
   ],
   "source": [
    "food.replace(\"b\",\"Sh\")"
   ]
  },
  {
   "cell_type": "markdown",
   "id": "d5d398c4",
   "metadata": {},
   "source": [
    "**Counting a specific alphabet in a string**"
   ]
  },
  {
   "cell_type": "code",
   "execution_count": 70,
   "id": "c2b32b22",
   "metadata": {},
   "outputs": [
    {
     "data": {
      "text/plain": [
       "'baba aammar with Dr Aammar Tufail'"
      ]
     },
     "execution_count": 70,
     "metadata": {},
     "output_type": "execute_result"
    }
   ],
   "source": [
    "name=\"baba aammar with Dr Aammar Tufail\"\n",
    "name\n"
   ]
  },
  {
   "cell_type": "code",
   "execution_count": 71,
   "id": "fa25b807",
   "metadata": {},
   "outputs": [
    {
     "data": {
      "text/plain": [
       "8"
      ]
     },
     "execution_count": 71,
     "metadata": {},
     "output_type": "execute_result"
    }
   ],
   "source": [
    "name.count(\"a\")"
   ]
  },
  {
   "cell_type": "markdown",
   "id": "5ed37698",
   "metadata": {},
   "source": [
    "**Finding an index number in string**"
   ]
  },
  {
   "cell_type": "code",
   "execution_count": 72,
   "id": "f550e869",
   "metadata": {},
   "outputs": [
    {
     "data": {
      "text/plain": [
       "'baba aammar with Dr Aammar Tufail'"
      ]
     },
     "execution_count": 72,
     "metadata": {},
     "output_type": "execute_result"
    }
   ],
   "source": [
    "name=\"baba aammar with Dr Aammar Tufail\"\n",
    "name"
   ]
  },
  {
   "cell_type": "code",
   "execution_count": 73,
   "id": "a0246c53",
   "metadata": {},
   "outputs": [
    {
     "data": {
      "text/plain": [
       "17"
      ]
     },
     "execution_count": 73,
     "metadata": {},
     "output_type": "execute_result"
    }
   ],
   "source": [
    "name.find(\"D\")"
   ]
  },
  {
   "cell_type": "code",
   "execution_count": 74,
   "id": "480ec26b",
   "metadata": {},
   "outputs": [
    {
     "data": {
      "text/plain": [
       "20"
      ]
     },
     "execution_count": 74,
     "metadata": {},
     "output_type": "execute_result"
    }
   ],
   "source": [
    "name.find(\"A\")"
   ]
  },
  {
   "cell_type": "code",
   "execution_count": 75,
   "id": "de52d59c",
   "metadata": {},
   "outputs": [
    {
     "data": {
      "text/plain": [
       "27"
      ]
     },
     "execution_count": 75,
     "metadata": {},
     "output_type": "execute_result"
    }
   ],
   "source": [
    "name.find(\"T\")"
   ]
  },
  {
   "cell_type": "markdown",
   "id": "95bfd188",
   "metadata": {},
   "source": [
    "***How to split a string***"
   ]
  },
  {
   "cell_type": "code",
   "execution_count": 76,
   "id": "b2dbb4a3",
   "metadata": {},
   "outputs": [
    {
     "data": {
      "text/plain": [
       "'I love samosa, pakora, raita, biryani and karahi'"
      ]
     },
     "execution_count": 76,
     "metadata": {},
     "output_type": "execute_result"
    }
   ],
   "source": [
    "food=\"I love samosa, pakora, raita, biryani and karahi\"\n",
    "food"
   ]
  },
  {
   "cell_type": "markdown",
   "id": "886e4203",
   "metadata": {},
   "source": [
    "food.split(\",\")"
   ]
  },
  {
   "cell_type": "markdown",
   "id": "315d1395",
   "metadata": {},
   "source": [
    "# Basic data structure in Python\n",
    "\n",
    "### 1-Tuple\n",
    "\n",
    "### 2-List\n",
    "\n",
    "### 3-Dictionaries\n",
    "\n",
    "### 4-Set\n",
    "\n"
   ]
  },
  {
   "cell_type": "markdown",
   "id": "fea6ce00",
   "metadata": {},
   "source": [
    "----"
   ]
  },
  {
   "cell_type": "markdown",
   "id": "b0281bc1",
   "metadata": {},
   "source": [
    "1-***Tuple***\n",
    "\n",
    "-**ordered collection of elements**\n",
    "\n",
    "-**enclosed in () round braces / paranthesis**\n",
    "\n",
    "-**Different kind of elements can be stored**\n",
    "\n",
    "-**Once elements are stored you can not change them (unmutatable) .It means you can not replace them.** "
   ]
  },
  {
   "cell_type": "markdown",
   "id": "1d8f05fa",
   "metadata": {},
   "source": [
    "-**elements means**\n",
    "\n",
    "*integers*\n",
    "\n",
    "*strings*\n",
    "\n",
    "*float number*\n",
    "\n",
    "*boolean operator (True , False)*"
   ]
  },
  {
   "cell_type": "code",
   "execution_count": 77,
   "id": "e607e702",
   "metadata": {},
   "outputs": [
    {
     "data": {
      "text/plain": [
       "(1, 'python', True, 2.5)"
      ]
     },
     "execution_count": 77,
     "metadata": {},
     "output_type": "execute_result"
    }
   ],
   "source": [
    "tup1 = (1,\"python\",True,2.5)\n",
    "tup1"
   ]
  },
  {
   "cell_type": "markdown",
   "id": "d0d57154",
   "metadata": {},
   "source": [
    "### type of tuple"
   ]
  },
  {
   "cell_type": "code",
   "execution_count": 78,
   "id": "f9471d5f",
   "metadata": {},
   "outputs": [
    {
     "data": {
      "text/plain": [
       "tuple"
      ]
     },
     "execution_count": 78,
     "metadata": {},
     "output_type": "execute_result"
    }
   ],
   "source": [
    "type(tup1)"
   ]
  },
  {
   "cell_type": "markdown",
   "id": "3d5cb361",
   "metadata": {},
   "source": [
    "### Indexing in tuple"
   ]
  },
  {
   "cell_type": "code",
   "execution_count": 79,
   "id": "a27f75b8",
   "metadata": {},
   "outputs": [
    {
     "data": {
      "text/plain": [
       "True"
      ]
     },
     "execution_count": 79,
     "metadata": {},
     "output_type": "execute_result"
    }
   ],
   "source": [
    "tup1[2]\n"
   ]
  },
  {
   "cell_type": "code",
   "execution_count": 80,
   "id": "f41c3ca5",
   "metadata": {},
   "outputs": [
    {
     "data": {
      "text/plain": [
       "'python'"
      ]
     },
     "execution_count": 80,
     "metadata": {},
     "output_type": "execute_result"
    }
   ],
   "source": [
    "tup1[1]"
   ]
  },
  {
   "cell_type": "code",
   "execution_count": 81,
   "id": "4b845961",
   "metadata": {},
   "outputs": [
    {
     "data": {
      "text/plain": [
       "1"
      ]
     },
     "execution_count": 81,
     "metadata": {},
     "output_type": "execute_result"
    }
   ],
   "source": [
    "tup1[0]"
   ]
  },
  {
   "cell_type": "code",
   "execution_count": 82,
   "id": "8a5d1a18",
   "metadata": {},
   "outputs": [
    {
     "data": {
      "text/plain": [
       "2.5"
      ]
     },
     "execution_count": 82,
     "metadata": {},
     "output_type": "execute_result"
    }
   ],
   "source": [
    "tup1[3]\n"
   ]
  },
  {
   "cell_type": "markdown",
   "id": "8dad4f29",
   "metadata": {},
   "source": [
    "*Last element is exclusive*"
   ]
  },
  {
   "cell_type": "code",
   "execution_count": 83,
   "id": "d264d83c",
   "metadata": {},
   "outputs": [
    {
     "data": {
      "text/plain": [
       "(1, 'python', True)"
      ]
     },
     "execution_count": 83,
     "metadata": {},
     "output_type": "execute_result"
    }
   ],
   "source": [
    "tup1[0:3]"
   ]
  },
  {
   "cell_type": "code",
   "execution_count": 84,
   "id": "5954f9f2",
   "metadata": {},
   "outputs": [
    {
     "data": {
      "text/plain": [
       "(1, 'python', True, 2.5)"
      ]
     },
     "execution_count": 84,
     "metadata": {},
     "output_type": "execute_result"
    }
   ],
   "source": [
    "tup1[0:4]"
   ]
  },
  {
   "cell_type": "markdown",
   "id": "3b0f5981",
   "metadata": {},
   "source": [
    "*count of element in tuple*"
   ]
  },
  {
   "cell_type": "code",
   "execution_count": 85,
   "id": "ce5d2fce",
   "metadata": {},
   "outputs": [
    {
     "data": {
      "text/plain": [
       "4"
      ]
     },
     "execution_count": 85,
     "metadata": {},
     "output_type": "execute_result"
    }
   ],
   "source": [
    "len(tup1)"
   ]
  },
  {
   "cell_type": "markdown",
   "id": "98dff40e",
   "metadata": {},
   "source": [
    "**Plusing tuples or concatinate (to add two tuple or >2)**"
   ]
  },
  {
   "cell_type": "code",
   "execution_count": 86,
   "id": "efe7f698",
   "metadata": {},
   "outputs": [
    {
     "data": {
      "text/plain": [
       "(2, 'baba Aammar', 3.5, False)"
      ]
     },
     "execution_count": 86,
     "metadata": {},
     "output_type": "execute_result"
    }
   ],
   "source": [
    "tup2=(2,\"baba Aammar\",3.5,False)\n",
    "tup2"
   ]
  },
  {
   "cell_type": "code",
   "execution_count": 87,
   "id": "0e688bc2",
   "metadata": {},
   "outputs": [
    {
     "data": {
      "text/plain": [
       "(1, 'python', True, 2.5, 2, 'baba Aammar', 3.5, False)"
      ]
     },
     "execution_count": 87,
     "metadata": {},
     "output_type": "execute_result"
    }
   ],
   "source": [
    "tup1+tup2"
   ]
  },
  {
   "cell_type": "markdown",
   "id": "84f9b495",
   "metadata": {},
   "source": [
    "## Repeat + Concatinate"
   ]
  },
  {
   "cell_type": "code",
   "execution_count": 88,
   "id": "b8fbbdf9",
   "metadata": {},
   "outputs": [
    {
     "data": {
      "text/plain": [
       "(1, 'python', True, 2.5, 1, 'python', True, 2.5, 2, 'baba Aammar', 3.5, False)"
      ]
     },
     "execution_count": 88,
     "metadata": {},
     "output_type": "execute_result"
    }
   ],
   "source": [
    "tup1*2+tup2"
   ]
  },
  {
   "cell_type": "code",
   "execution_count": 89,
   "id": "559a4d1d",
   "metadata": {},
   "outputs": [
    {
     "data": {
      "text/plain": [
       "(20, 50, 30, 60, 79, 80)"
      ]
     },
     "execution_count": 89,
     "metadata": {},
     "output_type": "execute_result"
    }
   ],
   "source": [
    "tup3=(20,50,30,60,79,80)\n",
    "tup3"
   ]
  },
  {
   "cell_type": "markdown",
   "id": "7e12e792",
   "metadata": {},
   "source": [
    "**minimum**"
   ]
  },
  {
   "cell_type": "code",
   "execution_count": 90,
   "id": "017e0200",
   "metadata": {},
   "outputs": [
    {
     "data": {
      "text/plain": [
       "20"
      ]
     },
     "execution_count": 90,
     "metadata": {},
     "output_type": "execute_result"
    }
   ],
   "source": [
    "min(tup3)"
   ]
  },
  {
   "cell_type": "markdown",
   "id": "5186ed75",
   "metadata": {},
   "source": [
    "**maximum**"
   ]
  },
  {
   "cell_type": "code",
   "execution_count": 91,
   "id": "647516e5",
   "metadata": {},
   "outputs": [
    {
     "data": {
      "text/plain": [
       "80"
      ]
     },
     "execution_count": 91,
     "metadata": {},
     "output_type": "execute_result"
    }
   ],
   "source": [
    "max(tup3)"
   ]
  },
  {
   "cell_type": "code",
   "execution_count": 92,
   "id": "8dbdcb55",
   "metadata": {},
   "outputs": [
    {
     "data": {
      "text/plain": [
       "(20, 50, 30, 60, 79, 80, 20, 50, 30, 60, 79, 80)"
      ]
     },
     "execution_count": 92,
     "metadata": {},
     "output_type": "execute_result"
    }
   ],
   "source": [
    "tup3*2"
   ]
  },
  {
   "cell_type": "code",
   "execution_count": 93,
   "id": "1764ce05",
   "metadata": {},
   "outputs": [
    {
     "data": {
      "text/plain": [
       "(20, 50, 30, 60, 79, 80, 2, 'baba Aammar', 3.5, False)"
      ]
     },
     "execution_count": 93,
     "metadata": {},
     "output_type": "execute_result"
    }
   ],
   "source": [
    "tup3+tup2"
   ]
  },
  {
   "cell_type": "markdown",
   "id": "c48b6e66",
   "metadata": {},
   "source": [
    "------"
   ]
  },
  {
   "cell_type": "markdown",
   "id": "77f4b33e",
   "metadata": {},
   "source": [
    "2-**List**"
   ]
  },
  {
   "cell_type": "markdown",
   "id": "b6fe5cc1",
   "metadata": {},
   "source": [
    "- **ordered collection of elements**\n",
    "\n",
    "- **enclosed in [  ] square bracket/braces**\n",
    "\n",
    "- **Mutateable, you can change the values**\n"
   ]
  },
  {
   "cell_type": "code",
   "execution_count": 94,
   "id": "3d519418",
   "metadata": {},
   "outputs": [
    {
     "data": {
      "text/plain": [
       "[2, 'baba Aammar', False]"
      ]
     },
     "execution_count": 94,
     "metadata": {},
     "output_type": "execute_result"
    }
   ],
   "source": [
    "list1=[2,\"baba Aammar\", False]\n",
    "list1"
   ]
  },
  {
   "cell_type": "code",
   "execution_count": 95,
   "id": "2c239578",
   "metadata": {},
   "outputs": [
    {
     "data": {
      "text/plain": [
       "list"
      ]
     },
     "execution_count": 95,
     "metadata": {},
     "output_type": "execute_result"
    }
   ],
   "source": [
    "type(list1)"
   ]
  },
  {
   "cell_type": "code",
   "execution_count": 96,
   "id": "47413c03",
   "metadata": {},
   "outputs": [
    {
     "data": {
      "text/plain": [
       "3"
      ]
     },
     "execution_count": 96,
     "metadata": {},
     "output_type": "execute_result"
    }
   ],
   "source": [
    "len(list1)"
   ]
  },
  {
   "cell_type": "code",
   "execution_count": 97,
   "id": "f10b32c5",
   "metadata": {},
   "outputs": [
    {
     "data": {
      "text/plain": [
       "False"
      ]
     },
     "execution_count": 97,
     "metadata": {},
     "output_type": "execute_result"
    }
   ],
   "source": [
    "list1[2]"
   ]
  },
  {
   "cell_type": "code",
   "execution_count": 98,
   "id": "7ba9301c",
   "metadata": {},
   "outputs": [
    {
     "data": {
      "text/plain": [
       "[3, 5, 'Aammar', 'codanics', 478, 53.2, False]"
      ]
     },
     "execution_count": 98,
     "metadata": {},
     "output_type": "execute_result"
    }
   ],
   "source": [
    "list2=[3,5,\"Aammar\",\"codanics\",478,53.2,False]\n",
    "list2"
   ]
  },
  {
   "cell_type": "code",
   "execution_count": 99,
   "id": "f7cab1a2",
   "metadata": {},
   "outputs": [
    {
     "data": {
      "text/plain": [
       "[2, 'baba Aammar', False, 3, 5, 'Aammar', 'codanics', 478, 53.2, False]"
      ]
     },
     "execution_count": 99,
     "metadata": {},
     "output_type": "execute_result"
    }
   ],
   "source": [
    "list1 + list2"
   ]
  },
  {
   "cell_type": "code",
   "execution_count": 100,
   "id": "11a6db7a",
   "metadata": {},
   "outputs": [
    {
     "data": {
      "text/plain": [
       "[2, 'baba Aammar', False, 2, 'baba Aammar', False]"
      ]
     },
     "execution_count": 100,
     "metadata": {},
     "output_type": "execute_result"
    }
   ],
   "source": [
    "list1*2"
   ]
  },
  {
   "cell_type": "code",
   "execution_count": 101,
   "id": "6758fdb7",
   "metadata": {},
   "outputs": [
    {
     "data": {
      "text/plain": [
       "[3,\n",
       " 5,\n",
       " 'Aammar',\n",
       " 'codanics',\n",
       " 478,\n",
       " 53.2,\n",
       " False,\n",
       " 3,\n",
       " 5,\n",
       " 'Aammar',\n",
       " 'codanics',\n",
       " 478,\n",
       " 53.2,\n",
       " False]"
      ]
     },
     "execution_count": 101,
     "metadata": {},
     "output_type": "execute_result"
    }
   ],
   "source": [
    "list2*2"
   ]
  },
  {
   "cell_type": "code",
   "execution_count": 102,
   "id": "45b6bfe7",
   "metadata": {
    "scrolled": true
   },
   "outputs": [
    {
     "data": {
      "text/plain": [
       "[2, 'baba Aammar', False]"
      ]
     },
     "execution_count": 102,
     "metadata": {},
     "output_type": "execute_result"
    }
   ],
   "source": [
    "list1"
   ]
  },
  {
   "cell_type": "markdown",
   "id": "4aad64d1",
   "metadata": {},
   "source": [
    "### reverse"
   ]
  },
  {
   "cell_type": "code",
   "execution_count": 103,
   "id": "1ce1d4d8",
   "metadata": {},
   "outputs": [
    {
     "data": {
      "text/plain": [
       "[False, 'baba Aammar', 2]"
      ]
     },
     "execution_count": 103,
     "metadata": {},
     "output_type": "execute_result"
    }
   ],
   "source": [
    "list1.reverse()\n",
    "list1"
   ]
  },
  {
   "cell_type": "markdown",
   "id": "62668f46",
   "metadata": {},
   "source": [
    "### append or adding something to the existing list"
   ]
  },
  {
   "cell_type": "code",
   "execution_count": 104,
   "id": "1808d360",
   "metadata": {},
   "outputs": [
    {
     "data": {
      "text/plain": [
       "[False, 'baba Aammar', 2, 'codanics Youtube channel']"
      ]
     },
     "execution_count": 104,
     "metadata": {},
     "output_type": "execute_result"
    }
   ],
   "source": [
    "list1.append(\"codanics Youtube channel\")\n",
    "list1\n"
   ]
  },
  {
   "cell_type": "markdown",
   "id": "e241f194",
   "metadata": {},
   "source": [
    "#### count"
   ]
  },
  {
   "cell_type": "code",
   "execution_count": 105,
   "id": "fe5d89b5",
   "metadata": {},
   "outputs": [
    {
     "data": {
      "text/plain": [
       "2"
      ]
     },
     "execution_count": 105,
     "metadata": {},
     "output_type": "execute_result"
    }
   ],
   "source": [
    "list3=[1,2,3,5,3,3,4,6,7,8,4,1,2]\n",
    "list3.count(2)"
   ]
  },
  {
   "cell_type": "markdown",
   "id": "e8b94daa",
   "metadata": {},
   "source": [
    "### clear"
   ]
  },
  {
   "cell_type": "code",
   "execution_count": 106,
   "id": "acc1e8b4",
   "metadata": {},
   "outputs": [],
   "source": [
    "list4=[1,2,2,3,4,5,7,8,9,5,2,3,1,4,6]\n",
    "list4.clear()"
   ]
  },
  {
   "cell_type": "code",
   "execution_count": 107,
   "id": "adce4770",
   "metadata": {},
   "outputs": [
    {
     "data": {
      "text/plain": [
       "[]"
      ]
     },
     "execution_count": 107,
     "metadata": {},
     "output_type": "execute_result"
    }
   ],
   "source": [
    "list4 "
   ]
  },
  {
   "cell_type": "code",
   "execution_count": 108,
   "id": "a6c06046",
   "metadata": {},
   "outputs": [
    {
     "data": {
      "text/plain": [
       "[20, 30, 40, 45, 50, 55, 6]"
      ]
     },
     "execution_count": 108,
     "metadata": {},
     "output_type": "execute_result"
    }
   ],
   "source": [
    "list5=[20,30,40,45,50,55,6]\n",
    "list5"
   ]
  },
  {
   "cell_type": "markdown",
   "id": "67afed30",
   "metadata": {},
   "source": [
    "### length"
   ]
  },
  {
   "cell_type": "code",
   "execution_count": 109,
   "id": "fc18753c",
   "metadata": {},
   "outputs": [
    {
     "data": {
      "text/plain": [
       "7"
      ]
     },
     "execution_count": 109,
     "metadata": {},
     "output_type": "execute_result"
    }
   ],
   "source": [
    "len(list5)"
   ]
  },
  {
   "cell_type": "code",
   "execution_count": 110,
   "id": "41ca392a",
   "metadata": {},
   "outputs": [
    {
     "data": {
      "text/plain": [
       "[20, 30, 40, 45, 50, 55, 6]"
      ]
     },
     "execution_count": 110,
     "metadata": {},
     "output_type": "execute_result"
    }
   ],
   "source": [
    "list5[0:7]"
   ]
  },
  {
   "cell_type": "markdown",
   "id": "675e6e56",
   "metadata": {},
   "source": [
    "### sort"
   ]
  },
  {
   "cell_type": "code",
   "execution_count": 111,
   "id": "e7d79bd8",
   "metadata": {},
   "outputs": [
    {
     "data": {
      "text/plain": [
       "[6, 20, 30, 40, 45, 50, 55]"
      ]
     },
     "execution_count": 111,
     "metadata": {},
     "output_type": "execute_result"
    }
   ],
   "source": [
    "list5.sort()\n",
    "list5"
   ]
  },
  {
   "cell_type": "markdown",
   "id": "4dec2e7a",
   "metadata": {},
   "source": [
    "### concatinate"
   ]
  },
  {
   "cell_type": "code",
   "execution_count": 112,
   "id": "1c827d89",
   "metadata": {},
   "outputs": [
    {
     "data": {
      "text/plain": [
       "[6, 20, 30, 40, 45, 50, 55]"
      ]
     },
     "execution_count": 112,
     "metadata": {},
     "output_type": "execute_result"
    }
   ],
   "source": [
    "\n",
    "            \n",
    "list5+list4\n"
   ]
  },
  {
   "cell_type": "markdown",
   "id": "f9b99af6",
   "metadata": {},
   "source": [
    "### copy"
   ]
  },
  {
   "cell_type": "code",
   "execution_count": 132,
   "id": "a84c58b3",
   "metadata": {},
   "outputs": [
    {
     "data": {
      "text/plain": [
       "[0.2, 22.3]"
      ]
     },
     "execution_count": 132,
     "metadata": {},
     "output_type": "execute_result"
    }
   ],
   "source": [
    "list4=[0.20,22.3]\n",
    "list4.copy()\n",
    "list4"
   ]
  },
  {
   "cell_type": "markdown",
   "id": "c12236ca",
   "metadata": {},
   "source": [
    "### Extend\n"
   ]
  },
  {
   "cell_type": "code",
   "execution_count": 114,
   "id": "d687fee5",
   "metadata": {},
   "outputs": [
    {
     "data": {
      "text/plain": [
       "[24, 34, 54, 64]"
      ]
     },
     "execution_count": 114,
     "metadata": {},
     "output_type": "execute_result"
    }
   ],
   "source": [
    "list6=[34,54,64]\n",
    "list7=[24]\n",
    "list7.extend(list6)\n",
    "list7"
   ]
  },
  {
   "cell_type": "code",
   "execution_count": 129,
   "id": "edcab4ba",
   "metadata": {},
   "outputs": [
    {
     "data": {
      "text/plain": [
       "3"
      ]
     },
     "execution_count": 129,
     "metadata": {},
     "output_type": "execute_result"
    }
   ],
   "source": [
    "list7=[24, 34, 54, 64]\n",
    "index=list7.index(64)\n",
    "index"
   ]
  },
  {
   "cell_type": "code",
   "execution_count": 133,
   "id": "1a90e496",
   "metadata": {},
   "outputs": [
    {
     "data": {
      "text/plain": [
       "54"
      ]
     },
     "execution_count": 133,
     "metadata": {},
     "output_type": "execute_result"
    }
   ],
   "source": [
    "list7[2]"
   ]
  },
  {
   "cell_type": "code",
   "execution_count": 134,
   "id": "b7159f60",
   "metadata": {},
   "outputs": [
    {
     "data": {
      "text/plain": [
       "[24, 34, 54, 64]"
      ]
     },
     "execution_count": 134,
     "metadata": {},
     "output_type": "execute_result"
    }
   ],
   "source": [
    "list7"
   ]
  },
  {
   "cell_type": "markdown",
   "id": "ea3f210b",
   "metadata": {},
   "source": [
    "### insert"
   ]
  },
  {
   "cell_type": "code",
   "execution_count": 139,
   "id": "d45aa1b9",
   "metadata": {},
   "outputs": [
    {
     "data": {
      "text/plain": [
       "[24, 34, 54, 64, '74', 84, 74, 74, 74]"
      ]
     },
     "execution_count": 139,
     "metadata": {},
     "output_type": "execute_result"
    }
   ],
   "source": [
    "list7.insert(5,84)\n",
    "list7"
   ]
  },
  {
   "cell_type": "markdown",
   "id": "d81f193d",
   "metadata": {},
   "source": [
    "### pop"
   ]
  },
  {
   "cell_type": "code",
   "execution_count": 144,
   "id": "90cd02c4",
   "metadata": {},
   "outputs": [
    {
     "data": {
      "text/plain": [
       "[24, 34, 64, 84, 74]"
      ]
     },
     "execution_count": 144,
     "metadata": {},
     "output_type": "execute_result"
    }
   ],
   "source": [
    "list7.pop(3)\n",
    "list7"
   ]
  },
  {
   "cell_type": "markdown",
   "id": "3586cfcd",
   "metadata": {},
   "source": [
    "### append + sort"
   ]
  },
  {
   "cell_type": "code",
   "execution_count": 156,
   "id": "ceee1a98",
   "metadata": {},
   "outputs": [
    {
     "data": {
      "text/plain": [
       "[14, 14, 24, 34, 54, 64, 74, 84]"
      ]
     },
     "execution_count": 156,
     "metadata": {},
     "output_type": "execute_result"
    }
   ],
   "source": [
    "\n",
    "list7.append(14)\n",
    "list7.sort()\n",
    "list7"
   ]
  },
  {
   "cell_type": "code",
   "execution_count": 157,
   "id": "d50c9b96",
   "metadata": {},
   "outputs": [
    {
     "data": {
      "text/plain": [
       "[False,\n",
       " 'baba Aammar',\n",
       " 2,\n",
       " 'codanics Youtube channel',\n",
       " 14,\n",
       " 14,\n",
       " 24,\n",
       " 34,\n",
       " 54,\n",
       " 64,\n",
       " 74,\n",
       " 84]"
      ]
     },
     "execution_count": 157,
     "metadata": {},
     "output_type": "execute_result"
    }
   ],
   "source": [
    "list1+list7"
   ]
  },
  {
   "cell_type": "markdown",
   "id": "4e00e3bd",
   "metadata": {},
   "source": [
    "## 3-Dictionaries"
   ]
  },
  {
   "cell_type": "markdown",
   "id": "b8887eea",
   "metadata": {},
   "source": [
    "**-An unordered collection of elements**\n",
    "\n",
    "**-Key and Value**\n",
    "\n",
    "**-Curly braces or brackets{  }**\n",
    "\n",
    "**-Mutateable/change the value**"
   ]
  },
  {
   "cell_type": "markdown",
   "id": "c34d7d9b",
   "metadata": {},
   "source": [
    "***Food and their prices***"
   ]
  },
  {
   "cell_type": "code",
   "execution_count": 158,
   "id": "c2e92536",
   "metadata": {},
   "outputs": [
    {
     "data": {
      "text/plain": [
       "{'Samosa': 30, 'Pakora': 70, 'Raita': 20, 'Salad': 20, 'Checken Rolls': 40}"
      ]
     },
     "execution_count": 158,
     "metadata": {},
     "output_type": "execute_result"
    }
   ],
   "source": [
    "food1={\"Samosa\": 30,\"Pakora\":70,\"Raita\":20,\"Salad\":20,\"Checken Rolls\":40}\n",
    "food1"
   ]
  },
  {
   "cell_type": "code",
   "execution_count": 160,
   "id": "92cf8471",
   "metadata": {},
   "outputs": [
    {
     "data": {
      "text/plain": [
       "dict"
      ]
     },
     "execution_count": 160,
     "metadata": {},
     "output_type": "execute_result"
    }
   ],
   "source": [
    "type(food1)"
   ]
  },
  {
   "cell_type": "markdown",
   "id": "2efbb0d2",
   "metadata": {},
   "source": [
    "### Extract data"
   ]
  },
  {
   "cell_type": "code",
   "execution_count": 163,
   "id": "50847414",
   "metadata": {},
   "outputs": [
    {
     "data": {
      "text/plain": [
       "dict_keys(['Samosa', 'Pakora', 'Raita', 'Salad', 'Checken Rolls'])"
      ]
     },
     "execution_count": 163,
     "metadata": {},
     "output_type": "execute_result"
    }
   ],
   "source": [
    "keys1=food1.keys()\n",
    "keys1"
   ]
  },
  {
   "cell_type": "code",
   "execution_count": 164,
   "id": "139545bb",
   "metadata": {},
   "outputs": [
    {
     "data": {
      "text/plain": [
       "dict_values([30, 70, 20, 20, 40])"
      ]
     },
     "execution_count": 164,
     "metadata": {},
     "output_type": "execute_result"
    }
   ],
   "source": [
    "values1=food1.values()\n",
    "values1"
   ]
  },
  {
   "cell_type": "markdown",
   "id": "d86bbe8b",
   "metadata": {},
   "source": [
    "### Updating or Adding new element"
   ]
  },
  {
   "cell_type": "code",
   "execution_count": 170,
   "id": "0e893853",
   "metadata": {},
   "outputs": [
    {
     "data": {
      "text/plain": [
       "{'Samosa': 30,\n",
       " 'Pakora': 70,\n",
       " 'Raita': 20,\n",
       " 'Salad': 20,\n",
       " 'Checken Rolls': 40,\n",
       " 'Tikki': 10}"
      ]
     },
     "execution_count": 170,
     "metadata": {},
     "output_type": "execute_result"
    }
   ],
   "source": [
    "food1[\"Tikki\"]=10\n",
    "food1"
   ]
  },
  {
   "cell_type": "code",
   "execution_count": 182,
   "id": "ed5ca4fe",
   "metadata": {},
   "outputs": [
    {
     "data": {
      "text/plain": [
       "{'Samosa': 30,\n",
       " 'Pakora': 70,\n",
       " 'Raita': 20,\n",
       " 'Salad': 20,\n",
       " 'Checken Rolls': 40,\n",
       " 'Tikki': 15,\n",
       " 'tikki': 20,\n",
       " 'Apple': 25}"
      ]
     },
     "execution_count": 182,
     "metadata": {},
     "output_type": "execute_result"
    }
   ],
   "source": [
    "food1\n",
    "food2={\"Apple\":25}\n",
    "food1.update(food2)\n",
    "food1"
   ]
  },
  {
   "cell_type": "code",
   "execution_count": 190,
   "id": "c1d74d9a",
   "metadata": {},
   "outputs": [
    {
     "data": {
      "text/plain": [
       "{'Samosa': 30,\n",
       " 'Pakora': 70,\n",
       " 'Raita': 20,\n",
       " 'Salad': 20,\n",
       " 'Checken Rolls': 40,\n",
       " 'Tikki': 15,\n",
       " 'tikki': 20,\n",
       " 'Apple': 25}"
      ]
     },
     "execution_count": 190,
     "metadata": {},
     "output_type": "execute_result"
    }
   ],
   "source": [
    "food1.items()\n",
    "food1"
   ]
  },
  {
   "cell_type": "code",
   "execution_count": 191,
   "id": "7ecdae94",
   "metadata": {},
   "outputs": [
    {
     "data": {
      "text/plain": [
       "{'Dates': 50, 'Chpclate': 200, 'sawayyan': 1000}"
      ]
     },
     "execution_count": 191,
     "metadata": {},
     "output_type": "execute_result"
    }
   ],
   "source": [
    "food3={\"Dates\":50,\"Chpclate\":200,\"sawayyan\":1000}\n",
    "food3"
   ]
  },
  {
   "cell_type": "markdown",
   "id": "2fb35c2b",
   "metadata": {},
   "source": [
    "***Concatinate***\n"
   ]
  },
  {
   "cell_type": "code",
   "execution_count": 193,
   "id": "5c8053cf",
   "metadata": {},
   "outputs": [
    {
     "data": {
      "text/plain": [
       "{'Samosa': 30,\n",
       " 'Pakora': 70,\n",
       " 'Raita': 20,\n",
       " 'Salad': 20,\n",
       " 'Checken Rolls': 40,\n",
       " 'Tikki': 15,\n",
       " 'tikki': 20,\n",
       " 'Apple': 25,\n",
       " 'Dates': 50,\n",
       " 'Chpclate': 200,\n",
       " 'sawayyan': 1000}"
      ]
     },
     "execution_count": 193,
     "metadata": {},
     "output_type": "execute_result"
    }
   ],
   "source": [
    "food1.update(food3)\n",
    "food1"
   ]
  },
  {
   "cell_type": "markdown",
   "id": "2597d8b2",
   "metadata": {},
   "source": [
    "**pop**\n"
   ]
  },
  {
   "cell_type": "code",
   "execution_count": 196,
   "id": "0c0b2f77",
   "metadata": {},
   "outputs": [
    {
     "data": {
      "text/plain": [
       "{'Samosa': 30,\n",
       " 'Pakora': 70,\n",
       " 'Raita': 20,\n",
       " 'Salad': 20,\n",
       " 'Checken Rolls': 40,\n",
       " 'Tikki': 15,\n",
       " 'Apple': 25,\n",
       " 'Dates': 50,\n",
       " 'Chpclate': 200,\n",
       " 'sawayyan': 1000}"
      ]
     },
     "execution_count": 196,
     "metadata": {},
     "output_type": "execute_result"
    }
   ],
   "source": [
    "food1.pop(\"tikki\")\n",
    "food1"
   ]
  },
  {
   "cell_type": "code",
   "execution_count": 198,
   "id": "f7961250",
   "metadata": {},
   "outputs": [
    {
     "data": {
      "text/plain": [
       "{'Apple': 25, 'Dates': 50, 'Chpclate': 200, 'sawayyan': 1000}"
      ]
     },
     "execution_count": 198,
     "metadata": {},
     "output_type": "execute_result"
    }
   ],
   "source": [
    "food2"
   ]
  },
  {
   "cell_type": "code",
   "execution_count": 199,
   "id": "225d0a00",
   "metadata": {},
   "outputs": [
    {
     "data": {
      "text/plain": [
       "{'Dates': 50, 'Chpclate': 200, 'sawayyan': 1000}"
      ]
     },
     "execution_count": 199,
     "metadata": {},
     "output_type": "execute_result"
    }
   ],
   "source": [
    "food3"
   ]
  },
  {
   "cell_type": "code",
   "execution_count": 203,
   "id": "75b45e96",
   "metadata": {},
   "outputs": [
    {
     "data": {
      "text/plain": [
       "dict_keys(['Dates', 'Chpclate', 'sawayyan'])"
      ]
     },
     "execution_count": 203,
     "metadata": {},
     "output_type": "execute_result"
    }
   ],
   "source": [
    "food3.keys()"
   ]
  },
  {
   "cell_type": "code",
   "execution_count": 204,
   "id": "4960aebe",
   "metadata": {},
   "outputs": [
    {
     "data": {
      "text/plain": [
       "dict_values([50, 200, 1000])"
      ]
     },
     "execution_count": 204,
     "metadata": {},
     "output_type": "execute_result"
    }
   ],
   "source": [
    "food3.values()"
   ]
  },
  {
   "cell_type": "code",
   "execution_count": 210,
   "id": "c859b231",
   "metadata": {},
   "outputs": [
    {
     "data": {
      "text/plain": [
       "50"
      ]
     },
     "execution_count": 210,
     "metadata": {},
     "output_type": "execute_result"
    }
   ],
   "source": [
    "food3.get(\"Dates\")"
   ]
  },
  {
   "cell_type": "code",
   "execution_count": 218,
   "id": "b90b2d16",
   "metadata": {},
   "outputs": [
    {
     "data": {
      "text/plain": [
       "{'k': 12, 'e': 12, 'y': 12, 's': 12}"
      ]
     },
     "execution_count": 218,
     "metadata": {},
     "output_type": "execute_result"
    }
   ],
   "source": [
    "food3.fromkeys(\"keys\",12)"
   ]
  },
  {
   "cell_type": "markdown",
   "id": "1370a2d4",
   "metadata": {},
   "source": [
    "## 4-Set"
   ]
  },
  {
   "cell_type": "markdown",
   "id": "e813ec28",
   "metadata": {},
   "source": [
    "**-unordered and unindexed**\n",
    "\n",
    "**-curly braces are used {  }**\n",
    "\n",
    "**-No duplicates allowed**"
   ]
  },
  {
   "cell_type": "code",
   "execution_count": 243,
   "id": "be0a8077",
   "metadata": {},
   "outputs": [
    {
     "data": {
      "text/plain": [
       "{1, 21, 5.2, 'Aammar', 'Codanics', 'Peshawar', 'apple'}"
      ]
     },
     "execution_count": 243,
     "metadata": {},
     "output_type": "execute_result"
    }
   ],
   "source": [
    "s1={1,21,5.2,\"Aammar\",\"Codanics\",\"Peshawar\",\"apple\",True}\n",
    "s1"
   ]
  },
  {
   "cell_type": "code",
   "execution_count": 244,
   "id": "3ace1959",
   "metadata": {},
   "outputs": [
    {
     "data": {
      "text/plain": [
       "{1, 21, 5.2, 'Aammar', 'Aammar1', 'Codanics', 'Peshawar', 'apple'}"
      ]
     },
     "execution_count": 244,
     "metadata": {},
     "output_type": "execute_result"
    }
   ],
   "source": [
    "s1.add(\"Aammar1\")\n",
    "s1"
   ]
  },
  {
   "cell_type": "code",
   "execution_count": 245,
   "id": "258e816b",
   "metadata": {},
   "outputs": [
    {
     "data": {
      "text/plain": [
       "{1, 21, 5.2, 'Aammar', 'Codanics', 'Peshawar', 'apple'}"
      ]
     },
     "execution_count": 245,
     "metadata": {},
     "output_type": "execute_result"
    }
   ],
   "source": [
    "s1.remove(\"Aammar1\")\n",
    "s1\n"
   ]
  },
  {
   "cell_type": "code",
   "execution_count": 251,
   "id": "36cc2e10",
   "metadata": {},
   "outputs": [
    {
     "data": {
      "text/plain": [
       "{21, 90, 'Pakistan', 'apple', 'banana'}"
      ]
     },
     "execution_count": 251,
     "metadata": {},
     "output_type": "execute_result"
    }
   ],
   "source": [
    "s2={21,90,\"apple\",\"banana\",\"Pakistan\"}\n",
    "s2\n"
   ]
  },
  {
   "cell_type": "code",
   "execution_count": 253,
   "id": "67b988db",
   "metadata": {},
   "outputs": [
    {
     "data": {
      "text/plain": [
       "{1, 5.2, 'Aammar', 'Codanics', 'Peshawar'}"
      ]
     },
     "execution_count": 253,
     "metadata": {},
     "output_type": "execute_result"
    }
   ],
   "source": [
    "s1.difference(s2)\n",
    "\n",
    "\n"
   ]
  },
  {
   "cell_type": "code",
   "execution_count": 254,
   "id": "dac10bbb",
   "metadata": {},
   "outputs": [
    {
     "data": {
      "text/plain": [
       "{90, 'Pakistan', 'banana'}"
      ]
     },
     "execution_count": 254,
     "metadata": {},
     "output_type": "execute_result"
    }
   ],
   "source": [
    "s2.difference(s1)"
   ]
  },
  {
   "cell_type": "code",
   "execution_count": 265,
   "id": "01757871",
   "metadata": {},
   "outputs": [],
   "source": [
    "s1.difference_update(s2)\n"
   ]
  },
  {
   "cell_type": "code",
   "execution_count": 270,
   "id": "0229b447",
   "metadata": {},
   "outputs": [],
   "source": [
    "s2.difference_update(s1)"
   ]
  },
  {
   "cell_type": "code",
   "execution_count": 271,
   "id": "5ea59e78",
   "metadata": {},
   "outputs": [
    {
     "data": {
      "text/plain": [
       "{21, 90, 'Pakistan', 'apple', 'banana'}"
      ]
     },
     "execution_count": 271,
     "metadata": {},
     "output_type": "execute_result"
    }
   ],
   "source": [
    "s2"
   ]
  },
  {
   "cell_type": "code",
   "execution_count": 272,
   "id": "d56a1127",
   "metadata": {},
   "outputs": [
    {
     "data": {
      "text/plain": [
       "{24, 34, 44, 54, 64}"
      ]
     },
     "execution_count": 272,
     "metadata": {},
     "output_type": "execute_result"
    }
   ],
   "source": [
    "s3={24,34,44,54,64}\n",
    "s3"
   ]
  },
  {
   "cell_type": "code",
   "execution_count": 273,
   "id": "6f10d830",
   "metadata": {},
   "outputs": [
    {
     "data": {
      "text/plain": [
       "{14, 24, 34, 74, 84, 94}"
      ]
     },
     "execution_count": 273,
     "metadata": {},
     "output_type": "execute_result"
    }
   ],
   "source": [
    "s4={14,24,34,74,84,94}\n",
    "s4"
   ]
  },
  {
   "cell_type": "code",
   "execution_count": 278,
   "id": "4ce82123",
   "metadata": {},
   "outputs": [
    {
     "data": {
      "text/plain": [
       "{44, 54, 64}"
      ]
     },
     "execution_count": 278,
     "metadata": {},
     "output_type": "execute_result"
    }
   ],
   "source": [
    "s3.difference_update(s4)\n",
    "s3"
   ]
  },
  {
   "cell_type": "code",
   "execution_count": 279,
   "id": "a988c164",
   "metadata": {},
   "outputs": [
    {
     "data": {
      "text/plain": [
       "{14, 24, 34, 74, 84, 94}"
      ]
     },
     "execution_count": 279,
     "metadata": {},
     "output_type": "execute_result"
    }
   ],
   "source": [
    "s4.difference_update(s3)\n",
    "s4"
   ]
  },
  {
   "cell_type": "code",
   "execution_count": 283,
   "id": "8d23979b",
   "metadata": {},
   "outputs": [
    {
     "data": {
      "text/plain": [
       "14"
      ]
     },
     "execution_count": 283,
     "metadata": {},
     "output_type": "execute_result"
    }
   ],
   "source": [
    "min(s4)"
   ]
  },
  {
   "cell_type": "code",
   "execution_count": 284,
   "id": "9d1bcf7a",
   "metadata": {},
   "outputs": [
    {
     "data": {
      "text/plain": [
       "94"
      ]
     },
     "execution_count": 284,
     "metadata": {},
     "output_type": "execute_result"
    }
   ],
   "source": [
    "max(s4)"
   ]
  },
  {
   "cell_type": "code",
   "execution_count": 285,
   "id": "acdf147e",
   "metadata": {},
   "outputs": [
    {
     "data": {
      "text/plain": [
       "{14, 34, 74, 84, 94}"
      ]
     },
     "execution_count": 285,
     "metadata": {},
     "output_type": "execute_result"
    }
   ],
   "source": [
    "s4.discard(24)\n",
    "s4"
   ]
  },
  {
   "cell_type": "code",
   "execution_count": 286,
   "id": "07e76687",
   "metadata": {},
   "outputs": [
    {
     "data": {
      "text/plain": [
       "set()"
      ]
     },
     "execution_count": 286,
     "metadata": {},
     "output_type": "execute_result"
    }
   ],
   "source": [
    "s4.intersection(s3)"
   ]
  },
  {
   "cell_type": "code",
   "execution_count": 290,
   "id": "be2f0bd4",
   "metadata": {},
   "outputs": [
    {
     "data": {
      "text/plain": [
       "{14, 44, 54, 64}"
      ]
     },
     "execution_count": 290,
     "metadata": {},
     "output_type": "execute_result"
    }
   ],
   "source": [
    "s3.add(14)\n",
    "s3"
   ]
  },
  {
   "cell_type": "code",
   "execution_count": null,
   "id": "fd2f081c",
   "metadata": {},
   "outputs": [],
   "source": []
  },
  {
   "cell_type": "code",
   "execution_count": null,
   "id": "13bca64c",
   "metadata": {},
   "outputs": [],
   "source": []
  },
  {
   "cell_type": "code",
   "execution_count": null,
   "id": "c02fbacc",
   "metadata": {},
   "outputs": [],
   "source": []
  },
  {
   "cell_type": "code",
   "execution_count": null,
   "id": "13496864",
   "metadata": {},
   "outputs": [],
   "source": []
  },
  {
   "cell_type": "code",
   "execution_count": null,
   "id": "035b92ef",
   "metadata": {},
   "outputs": [],
   "source": []
  }
 ],
 "metadata": {
  "kernelspec": {
   "display_name": "Python 3 (ipykernel)",
   "language": "python",
   "name": "python3"
  },
  "language_info": {
   "codemirror_mode": {
    "name": "ipython",
    "version": 3
   },
   "file_extension": ".py",
   "mimetype": "text/x-python",
   "name": "python",
   "nbconvert_exporter": "python",
   "pygments_lexer": "ipython3",
   "version": "3.9.7"
  }
 },
 "nbformat": 4,
 "nbformat_minor": 5
}
